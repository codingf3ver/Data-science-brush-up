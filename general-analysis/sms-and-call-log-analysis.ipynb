{
 "cells": [
  {
   "cell_type": "code",
   "execution_count": 72,
   "id": "70098e09",
   "metadata": {},
   "outputs": [
    {
     "data": {
      "text/plain": [
       "True"
      ]
     },
     "execution_count": 72,
     "metadata": {},
     "output_type": "execute_result"
    }
   ],
   "source": [
    "import requests\n",
    "import gdown\n",
    "import os\n",
    "import matplotlib.pyplot as plt\n",
    "import seaborn as sns\n",
    "from datetime import date\n",
    "from dotenv import load_dotenv\n",
    "\n",
    "load_dotenv()"
   ]
  },
  {
   "cell_type": "code",
   "execution_count": 3,
   "id": "1319afc2",
   "metadata": {},
   "outputs": [],
   "source": [
    "DATA_PATH=os.path.join(os.getcwd(),'data')\n",
    "os.makedirs(DATA_PATH,exist_ok=True)"
   ]
  },
  {
   "cell_type": "code",
   "execution_count": 4,
   "id": "4b94c3a9",
   "metadata": {},
   "outputs": [],
   "source": [
    "SMS_URL = os.environ.get('SMS_URL')\n",
    "CALLS_URL = os.environ.get('CALLS_URL')\n",
    "URL_DICT = {'SMS':SMS_URL,'CALLS':CALLS_URL}"
   ]
  },
  {
   "cell_type": "code",
   "execution_count": null,
   "id": "a74740da",
   "metadata": {},
   "outputs": [
    {
     "name": "stderr",
     "output_type": "stream",
     "text": [
      "Downloading...\n",
      "From (original): https://drive.google.com/uc?id=1LpJmiG0NZBFKipZyBLtolv9Yg4P4LRv4\n",
      "From (redirected): https://drive.google.com/uc?id=1LpJmiG0NZBFKipZyBLtolv9Yg4P4LRv4&confirm=t&uuid=27b13f07-3056-4c37-9a1b-8200f16338ad\n",
      "To: /Users/zeynmehezmacbook/Desktop/AladinDocs/Git-Personal/Data-science-brush-up/general-analysis/data/sms_2025-05-04.xml\n",
      "100%|██████████| 13.2M/13.2M [00:02<00:00, 5.22MB/s]\n",
      "Downloading...\n",
      "From (original): https://drive.google.com/uc?id=1QfmNC6J6A44YpvgrNHXPpYqrC9nZ-BbS\n",
      "From (redirected): https://drive.google.com/uc?id=1QfmNC6J6A44YpvgrNHXPpYqrC9nZ-BbS&confirm=t&uuid=0850dd3b-4fee-4cc9-9d16-c19e2995f67f\n",
      "To: /Users/zeynmehezmacbook/Desktop/AladinDocs/Git-Personal/Data-science-brush-up/general-analysis/data/calls_2025-05-04.xml\n",
      "100%|██████████| 791k/791k [00:00<00:00, 1.40MB/s]\n"
     ]
    }
   ],
   "source": [
    "for key, val in URL_DICT.items():\n",
    "    try : \n",
    "        if key == 'SMS':\n",
    "            URL = val\n",
    "            file_name = f'sms-{str(date.today())}.xml'\n",
    "            file_path = os.path.join(DATA_PATH,file_name)\n",
    "            gdown.download(URL, file_path, quiet=False)    \n",
    "        if key == 'CALLS':\n",
    "            URL = val\n",
    "            file_name = f'calls-{str(date.today())}.xml'\n",
    "            file_path = os.path.join(DATA_PATH,file_name)\n",
    "            gdown.download(URL, file_path, quiet=False)   \n",
    "    except Exception as err: \n",
    "        print(f'key : {key}, error --> {err}')\n",
    "        continue"
   ]
  },
  {
   "cell_type": "code",
   "execution_count": null,
   "id": "041a0be2",
   "metadata": {},
   "outputs": [],
   "source": [
    "import xml.etree.ElementTree as ET\n",
    "import pandas as pd\n",
    "from datetime import datetime\n",
    "\n",
    "file_name = f'sms-{str(date.today())}.xml'\n",
    "root_tree = ET.parse(os.path.join(DATA_PATH,file_name))  \n",
    "root_sms = root_tree.getroot()\n",
    "\n",
    "sms_data = []\n",
    "\n",
    "def parse_epoch(ms):\n",
    "    dt = datetime.fromtimestamp(ms / 1000)\n",
    "    return dt.date(), dt.time(), dt.strftime(\"%b\")\n",
    "\n",
    "\n",
    "def parse_readable_date(readable_date_str):\n",
    "    # Normalize common errors (e.g., Sept -> Sep)\n",
    "    replacements = {\"Sept\": \"Sep\", \"April\": \"Apr\", \"June\": \"Jun\", \"July\": \"Jul\"}\n",
    "    for wrong, correct in replacements.items():\n",
    "        readable_date_str = readable_date_str.replace(wrong, correct)\n",
    "    dt = datetime.strptime(readable_date_str, \"%d %b %Y %H:%M:%S\")\n",
    "    return dt.date(), dt.time(), dt.strftime(\"%b\")\n",
    "\n",
    "# Extract SMS entries\n",
    "for sms in root_sms.findall('sms'):\n",
    "    address = sms.attrib.get('address')\n",
    "    body = sms.attrib.get('body')\n",
    "    subject = sms.attrib.get('subject')\n",
    "    contact_name = sms.attrib.get('contact_name')\n",
    "    \n",
    "    date = int(sms.attrib.get('date'))\n",
    "    date_sent = int(sms.attrib.get('date_sent'))\n",
    "    readable_date = sms.attrib.get('readable_date')\n",
    "\n",
    "    date_d, date_t, date_m = parse_epoch(date)\n",
    "    sent_d, sent_t, sent_m = parse_epoch(date_sent)\n",
    "    readable_d, readable_t, readable_m = parse_readable_date(readable_date)\n",
    "\n",
    "    # Append parsed row\n",
    "    sms_data.append({\n",
    "        \"address\": address,\n",
    "        \"subject\": subject,\n",
    "        \"body\": body,\n",
    "        \"contact_name\": contact_name,\n",
    "\n",
    "        \"date\": date_d,\n",
    "        \"time\": date_t,\n",
    "        \"month\": date_m,\n",
    "\n",
    "        \"date_sent\": sent_d,\n",
    "        \"time_sent\": sent_t,\n",
    "        \"month_sent\": sent_m,\n",
    "\n",
    "        \"readable_date\": readable_date,\n",
    "        \"parsed_date\": readable_d,\n",
    "        \"parsed_time\": readable_t,\n",
    "        \"parsed_month\": readable_m,\n",
    "    })\n",
    "\n",
    "# Create DataFrame\n",
    "df = pd.DataFrame(sms_data)\n",
    "\n",
    "\n"
   ]
  },
  {
   "cell_type": "code",
   "execution_count": 35,
   "id": "666f87cc",
   "metadata": {},
   "outputs": [
    {
     "data": {
      "text/html": [
       "<div>\n",
       "<style scoped>\n",
       "    .dataframe tbody tr th:only-of-type {\n",
       "        vertical-align: middle;\n",
       "    }\n",
       "\n",
       "    .dataframe tbody tr th {\n",
       "        vertical-align: top;\n",
       "    }\n",
       "\n",
       "    .dataframe thead th {\n",
       "        text-align: right;\n",
       "    }\n",
       "</style>\n",
       "<table border=\"1\" class=\"dataframe\">\n",
       "  <thead>\n",
       "    <tr style=\"text-align: right;\">\n",
       "      <th></th>\n",
       "      <th>address</th>\n",
       "      <th>subject</th>\n",
       "      <th>body</th>\n",
       "      <th>contact_name</th>\n",
       "      <th>date</th>\n",
       "      <th>time</th>\n",
       "      <th>month</th>\n",
       "      <th>date_sent</th>\n",
       "      <th>time_sent</th>\n",
       "      <th>month_sent</th>\n",
       "      <th>readable_date</th>\n",
       "      <th>parsed_date</th>\n",
       "      <th>parsed_time</th>\n",
       "      <th>parsed_month</th>\n",
       "    </tr>\n",
       "  </thead>\n",
       "  <tbody>\n",
       "    <tr>\n",
       "      <th>0</th>\n",
       "      <td>JXJioSvc</td>\n",
       "      <td>null</td>\n",
       "      <td>For seamless data experience across the countr...</td>\n",
       "      <td>(Unknown)</td>\n",
       "      <td>2021-06-20</td>\n",
       "      <td>19:56:35.162000</td>\n",
       "      <td>Jun</td>\n",
       "      <td>2021-06-20</td>\n",
       "      <td>19:53:02</td>\n",
       "      <td>Jun</td>\n",
       "      <td>20 Jun 2021 19:56:35</td>\n",
       "      <td>2021-06-20</td>\n",
       "      <td>19:56:35</td>\n",
       "      <td>Jun</td>\n",
       "    </tr>\n",
       "    <tr>\n",
       "      <th>1</th>\n",
       "      <td>57575701</td>\n",
       "      <td>null</td>\n",
       "      <td>[OnePlus]Here's the verification code to verif...</td>\n",
       "      <td>(Unknown)</td>\n",
       "      <td>2021-06-20</td>\n",
       "      <td>20:07:15.740000</td>\n",
       "      <td>Jun</td>\n",
       "      <td>2021-06-20</td>\n",
       "      <td>20:07:15</td>\n",
       "      <td>Jun</td>\n",
       "      <td>20 Jun 2021 20:07:15</td>\n",
       "      <td>2021-06-20</td>\n",
       "      <td>20:07:15</td>\n",
       "      <td>Jun</td>\n",
       "    </tr>\n",
       "    <tr>\n",
       "      <th>2</th>\n",
       "      <td>59039211</td>\n",
       "      <td>null</td>\n",
       "      <td>&lt;#&gt; Your WhatsApp code: 131-989\\n\\nYou can als...</td>\n",
       "      <td>(Unknown)</td>\n",
       "      <td>2021-06-20</td>\n",
       "      <td>22:19:29.963000</td>\n",
       "      <td>Jun</td>\n",
       "      <td>2021-06-20</td>\n",
       "      <td>22:19:12</td>\n",
       "      <td>Jun</td>\n",
       "      <td>20 Jun 2021 22:19:29</td>\n",
       "      <td>2021-06-20</td>\n",
       "      <td>22:19:29</td>\n",
       "      <td>Jun</td>\n",
       "    </tr>\n",
       "    <tr>\n",
       "      <th>3</th>\n",
       "      <td>57273200</td>\n",
       "      <td>null</td>\n",
       "      <td>&lt;#&gt; Your WhatsApp code: 430-720\\n\\nYou can als...</td>\n",
       "      <td>(Unknown)</td>\n",
       "      <td>2021-06-20</td>\n",
       "      <td>22:37:13.825000</td>\n",
       "      <td>Jun</td>\n",
       "      <td>2021-06-20</td>\n",
       "      <td>22:37:11</td>\n",
       "      <td>Jun</td>\n",
       "      <td>20 Jun 2021 22:37:13</td>\n",
       "      <td>2021-06-20</td>\n",
       "      <td>22:37:13</td>\n",
       "      <td>Jun</td>\n",
       "    </tr>\n",
       "    <tr>\n",
       "      <th>4</th>\n",
       "      <td>JKSBGMBS</td>\n",
       "      <td>null</td>\n",
       "      <td>Activation code for Yono Lite SBI is 42550106 ...</td>\n",
       "      <td>(Unknown)</td>\n",
       "      <td>2021-06-21</td>\n",
       "      <td>01:45:26.449000</td>\n",
       "      <td>Jun</td>\n",
       "      <td>2021-06-21</td>\n",
       "      <td>01:45:24</td>\n",
       "      <td>Jun</td>\n",
       "      <td>21 Jun 2021 01:45:26</td>\n",
       "      <td>2021-06-21</td>\n",
       "      <td>01:45:26</td>\n",
       "      <td>Jun</td>\n",
       "    </tr>\n",
       "  </tbody>\n",
       "</table>\n",
       "</div>"
      ],
      "text/plain": [
       "    address subject                                               body  \\\n",
       "0  JXJioSvc    null  For seamless data experience across the countr...   \n",
       "1  57575701    null  [OnePlus]Here's the verification code to verif...   \n",
       "2  59039211    null  <#> Your WhatsApp code: 131-989\\n\\nYou can als...   \n",
       "3  57273200    null  <#> Your WhatsApp code: 430-720\\n\\nYou can als...   \n",
       "4  JKSBGMBS    null  Activation code for Yono Lite SBI is 42550106 ...   \n",
       "\n",
       "  contact_name        date             time month   date_sent time_sent  \\\n",
       "0    (Unknown)  2021-06-20  19:56:35.162000   Jun  2021-06-20  19:53:02   \n",
       "1    (Unknown)  2021-06-20  20:07:15.740000   Jun  2021-06-20  20:07:15   \n",
       "2    (Unknown)  2021-06-20  22:19:29.963000   Jun  2021-06-20  22:19:12   \n",
       "3    (Unknown)  2021-06-20  22:37:13.825000   Jun  2021-06-20  22:37:11   \n",
       "4    (Unknown)  2021-06-21  01:45:26.449000   Jun  2021-06-21  01:45:24   \n",
       "\n",
       "  month_sent         readable_date parsed_date parsed_time parsed_month  \n",
       "0        Jun  20 Jun 2021 19:56:35  2021-06-20    19:56:35          Jun  \n",
       "1        Jun  20 Jun 2021 20:07:15  2021-06-20    20:07:15          Jun  \n",
       "2        Jun  20 Jun 2021 22:19:29  2021-06-20    22:19:29          Jun  \n",
       "3        Jun  20 Jun 2021 22:37:13  2021-06-20    22:37:13          Jun  \n",
       "4        Jun  21 Jun 2021 01:45:26  2021-06-21    01:45:26          Jun  "
      ]
     },
     "execution_count": 35,
     "metadata": {},
     "output_type": "execute_result"
    }
   ],
   "source": [
    "df.head()"
   ]
  },
  {
   "cell_type": "code",
   "execution_count": 11,
   "id": "e93bb394",
   "metadata": {},
   "outputs": [
    {
     "data": {
      "text/plain": [
       "(25238, 14)"
      ]
     },
     "execution_count": 11,
     "metadata": {},
     "output_type": "execute_result"
    }
   ],
   "source": [
    "df.shape"
   ]
  },
  {
   "cell_type": "code",
   "execution_count": 14,
   "id": "31348498",
   "metadata": {},
   "outputs": [
    {
     "data": {
      "text/html": [
       "<div>\n",
       "<style scoped>\n",
       "    .dataframe tbody tr th:only-of-type {\n",
       "        vertical-align: middle;\n",
       "    }\n",
       "\n",
       "    .dataframe tbody tr th {\n",
       "        vertical-align: top;\n",
       "    }\n",
       "\n",
       "    .dataframe thead th {\n",
       "        text-align: right;\n",
       "    }\n",
       "</style>\n",
       "<table border=\"1\" class=\"dataframe\">\n",
       "  <thead>\n",
       "    <tr style=\"text-align: right;\">\n",
       "      <th></th>\n",
       "      <th>address</th>\n",
       "      <th>subject</th>\n",
       "      <th>body</th>\n",
       "      <th>contact_name</th>\n",
       "      <th>date</th>\n",
       "      <th>time</th>\n",
       "      <th>month</th>\n",
       "      <th>date_sent</th>\n",
       "      <th>time_sent</th>\n",
       "      <th>month_sent</th>\n",
       "      <th>readable_date</th>\n",
       "      <th>parsed_date</th>\n",
       "      <th>parsed_time</th>\n",
       "      <th>parsed_month</th>\n",
       "    </tr>\n",
       "  </thead>\n",
       "  <tbody>\n",
       "    <tr>\n",
       "      <th>25237</th>\n",
       "      <td>JM-HSBCIN</td>\n",
       "      <td>proto:CjoKImNvbS5nb29nbGUuYW5kcm9pZC5hcHBzLm1l...</td>\n",
       "      <td>Your HSBC credit card xxxxx1330 is used at swi...</td>\n",
       "      <td>(Unknown)</td>\n",
       "      <td>2025-05-04</td>\n",
       "      <td>17:55:09.846000</td>\n",
       "      <td>May</td>\n",
       "      <td>2025-05-04</td>\n",
       "      <td>17:55:06</td>\n",
       "      <td>May</td>\n",
       "      <td>4 May 2025 17:55:09</td>\n",
       "      <td>2025-05-04</td>\n",
       "      <td>17:55:09</td>\n",
       "      <td>May</td>\n",
       "    </tr>\n",
       "    <tr>\n",
       "      <th>25236</th>\n",
       "      <td>JM-HSBCIN</td>\n",
       "      <td>proto:CjoKImNvbS5nb29nbGUuYW5kcm9pZC5hcHBzLm1l...</td>\n",
       "      <td>Use 710664 as your OTP (Ref: UQHB) for TXN on ...</td>\n",
       "      <td>(Unknown)</td>\n",
       "      <td>2025-05-04</td>\n",
       "      <td>17:54:50.397000</td>\n",
       "      <td>May</td>\n",
       "      <td>2025-05-04</td>\n",
       "      <td>17:54:47</td>\n",
       "      <td>May</td>\n",
       "      <td>4 May 2025 17:54:50</td>\n",
       "      <td>2025-05-04</td>\n",
       "      <td>17:54:50</td>\n",
       "      <td>May</td>\n",
       "    </tr>\n",
       "    <tr>\n",
       "      <th>25235</th>\n",
       "      <td>BX-SWIGGY</td>\n",
       "      <td>proto:CjoKImNvbS5nb29nbGUuYW5kcm9pZC5hcHBzLm1l...</td>\n",
       "      <td>Your payment for Swiggy order #205330964101004...</td>\n",
       "      <td>(Unknown)</td>\n",
       "      <td>2025-05-04</td>\n",
       "      <td>17:53:04.320000</td>\n",
       "      <td>May</td>\n",
       "      <td>2025-05-04</td>\n",
       "      <td>17:53:03</td>\n",
       "      <td>May</td>\n",
       "      <td>4 May 2025 17:53:04</td>\n",
       "      <td>2025-05-04</td>\n",
       "      <td>17:53:04</td>\n",
       "      <td>May</td>\n",
       "    </tr>\n",
       "    <tr>\n",
       "      <th>25234</th>\n",
       "      <td>JM-HSBCIN</td>\n",
       "      <td>proto:CjoKImNvbS5nb29nbGUuYW5kcm9pZC5hcHBzLm1l...</td>\n",
       "      <td>Use 096046 as your OTP (Ref: VPWR) for TXN on ...</td>\n",
       "      <td>(Unknown)</td>\n",
       "      <td>2025-05-04</td>\n",
       "      <td>17:52:58.185000</td>\n",
       "      <td>May</td>\n",
       "      <td>2025-05-04</td>\n",
       "      <td>17:52:55</td>\n",
       "      <td>May</td>\n",
       "      <td>4 May 2025 17:52:58</td>\n",
       "      <td>2025-05-04</td>\n",
       "      <td>17:52:58</td>\n",
       "      <td>May</td>\n",
       "    </tr>\n",
       "    <tr>\n",
       "      <th>25233</th>\n",
       "      <td>VM-INDUSB</td>\n",
       "      <td>proto:CjoKImNvbS5nb29nbGUuYW5kcm9pZC5hcHBzLm1l...</td>\n",
       "      <td>Dear Md Tausif, Access to funds is available o...</td>\n",
       "      <td>(Unknown)</td>\n",
       "      <td>2025-05-04</td>\n",
       "      <td>15:09:06.941000</td>\n",
       "      <td>May</td>\n",
       "      <td>2025-05-04</td>\n",
       "      <td>15:09:05</td>\n",
       "      <td>May</td>\n",
       "      <td>4 May 2025 15:09:06</td>\n",
       "      <td>2025-05-04</td>\n",
       "      <td>15:09:06</td>\n",
       "      <td>May</td>\n",
       "    </tr>\n",
       "    <tr>\n",
       "      <th>...</th>\n",
       "      <td>...</td>\n",
       "      <td>...</td>\n",
       "      <td>...</td>\n",
       "      <td>...</td>\n",
       "      <td>...</td>\n",
       "      <td>...</td>\n",
       "      <td>...</td>\n",
       "      <td>...</td>\n",
       "      <td>...</td>\n",
       "      <td>...</td>\n",
       "      <td>...</td>\n",
       "      <td>...</td>\n",
       "      <td>...</td>\n",
       "      <td>...</td>\n",
       "    </tr>\n",
       "    <tr>\n",
       "      <th>28</th>\n",
       "      <td>BXPHRMSY</td>\n",
       "      <td>null</td>\n",
       "      <td>DOUBLE DEAL: Get FLAT 30% OFF + Rs.150 instant...</td>\n",
       "      <td>(Unknown)</td>\n",
       "      <td>2021-06-21</td>\n",
       "      <td>10:59:48.581000</td>\n",
       "      <td>Jun</td>\n",
       "      <td>2021-06-21</td>\n",
       "      <td>10:54:40</td>\n",
       "      <td>Jun</td>\n",
       "      <td>21 Jun 2021 10:59:48</td>\n",
       "      <td>2021-06-21</td>\n",
       "      <td>10:59:48</td>\n",
       "      <td>Jun</td>\n",
       "    </tr>\n",
       "    <tr>\n",
       "      <th>2</th>\n",
       "      <td>59039211</td>\n",
       "      <td>null</td>\n",
       "      <td>&lt;#&gt; Your WhatsApp code: 131-989\\n\\nYou can als...</td>\n",
       "      <td>(Unknown)</td>\n",
       "      <td>2021-06-20</td>\n",
       "      <td>22:19:29.963000</td>\n",
       "      <td>Jun</td>\n",
       "      <td>2021-06-20</td>\n",
       "      <td>22:19:12</td>\n",
       "      <td>Jun</td>\n",
       "      <td>20 Jun 2021 22:19:29</td>\n",
       "      <td>2021-06-20</td>\n",
       "      <td>22:19:29</td>\n",
       "      <td>Jun</td>\n",
       "    </tr>\n",
       "    <tr>\n",
       "      <th>1</th>\n",
       "      <td>57575701</td>\n",
       "      <td>null</td>\n",
       "      <td>[OnePlus]Here's the verification code to verif...</td>\n",
       "      <td>(Unknown)</td>\n",
       "      <td>2021-06-20</td>\n",
       "      <td>20:07:15.740000</td>\n",
       "      <td>Jun</td>\n",
       "      <td>2021-06-20</td>\n",
       "      <td>20:07:15</td>\n",
       "      <td>Jun</td>\n",
       "      <td>20 Jun 2021 20:07:15</td>\n",
       "      <td>2021-06-20</td>\n",
       "      <td>20:07:15</td>\n",
       "      <td>Jun</td>\n",
       "    </tr>\n",
       "    <tr>\n",
       "      <th>3</th>\n",
       "      <td>57273200</td>\n",
       "      <td>null</td>\n",
       "      <td>&lt;#&gt; Your WhatsApp code: 430-720\\n\\nYou can als...</td>\n",
       "      <td>(Unknown)</td>\n",
       "      <td>2021-06-20</td>\n",
       "      <td>22:37:13.825000</td>\n",
       "      <td>Jun</td>\n",
       "      <td>2021-06-20</td>\n",
       "      <td>22:37:11</td>\n",
       "      <td>Jun</td>\n",
       "      <td>20 Jun 2021 22:37:13</td>\n",
       "      <td>2021-06-20</td>\n",
       "      <td>22:37:13</td>\n",
       "      <td>Jun</td>\n",
       "    </tr>\n",
       "    <tr>\n",
       "      <th>0</th>\n",
       "      <td>JXJioSvc</td>\n",
       "      <td>null</td>\n",
       "      <td>For seamless data experience across the countr...</td>\n",
       "      <td>(Unknown)</td>\n",
       "      <td>2021-06-20</td>\n",
       "      <td>19:56:35.162000</td>\n",
       "      <td>Jun</td>\n",
       "      <td>2021-06-20</td>\n",
       "      <td>19:53:02</td>\n",
       "      <td>Jun</td>\n",
       "      <td>20 Jun 2021 19:56:35</td>\n",
       "      <td>2021-06-20</td>\n",
       "      <td>19:56:35</td>\n",
       "      <td>Jun</td>\n",
       "    </tr>\n",
       "  </tbody>\n",
       "</table>\n",
       "<p>25238 rows × 14 columns</p>\n",
       "</div>"
      ],
      "text/plain": [
       "         address                                            subject  \\\n",
       "25237  JM-HSBCIN  proto:CjoKImNvbS5nb29nbGUuYW5kcm9pZC5hcHBzLm1l...   \n",
       "25236  JM-HSBCIN  proto:CjoKImNvbS5nb29nbGUuYW5kcm9pZC5hcHBzLm1l...   \n",
       "25235  BX-SWIGGY  proto:CjoKImNvbS5nb29nbGUuYW5kcm9pZC5hcHBzLm1l...   \n",
       "25234  JM-HSBCIN  proto:CjoKImNvbS5nb29nbGUuYW5kcm9pZC5hcHBzLm1l...   \n",
       "25233  VM-INDUSB  proto:CjoKImNvbS5nb29nbGUuYW5kcm9pZC5hcHBzLm1l...   \n",
       "...          ...                                                ...   \n",
       "28      BXPHRMSY                                               null   \n",
       "2       59039211                                               null   \n",
       "1       57575701                                               null   \n",
       "3       57273200                                               null   \n",
       "0       JXJioSvc                                               null   \n",
       "\n",
       "                                                    body contact_name  \\\n",
       "25237  Your HSBC credit card xxxxx1330 is used at swi...    (Unknown)   \n",
       "25236  Use 710664 as your OTP (Ref: UQHB) for TXN on ...    (Unknown)   \n",
       "25235  Your payment for Swiggy order #205330964101004...    (Unknown)   \n",
       "25234  Use 096046 as your OTP (Ref: VPWR) for TXN on ...    (Unknown)   \n",
       "25233  Dear Md Tausif, Access to funds is available o...    (Unknown)   \n",
       "...                                                  ...          ...   \n",
       "28     DOUBLE DEAL: Get FLAT 30% OFF + Rs.150 instant...    (Unknown)   \n",
       "2      <#> Your WhatsApp code: 131-989\\n\\nYou can als...    (Unknown)   \n",
       "1      [OnePlus]Here's the verification code to verif...    (Unknown)   \n",
       "3      <#> Your WhatsApp code: 430-720\\n\\nYou can als...    (Unknown)   \n",
       "0      For seamless data experience across the countr...    (Unknown)   \n",
       "\n",
       "             date             time month   date_sent time_sent month_sent  \\\n",
       "25237  2025-05-04  17:55:09.846000   May  2025-05-04  17:55:06        May   \n",
       "25236  2025-05-04  17:54:50.397000   May  2025-05-04  17:54:47        May   \n",
       "25235  2025-05-04  17:53:04.320000   May  2025-05-04  17:53:03        May   \n",
       "25234  2025-05-04  17:52:58.185000   May  2025-05-04  17:52:55        May   \n",
       "25233  2025-05-04  15:09:06.941000   May  2025-05-04  15:09:05        May   \n",
       "...           ...              ...   ...         ...       ...        ...   \n",
       "28     2021-06-21  10:59:48.581000   Jun  2021-06-21  10:54:40        Jun   \n",
       "2      2021-06-20  22:19:29.963000   Jun  2021-06-20  22:19:12        Jun   \n",
       "1      2021-06-20  20:07:15.740000   Jun  2021-06-20  20:07:15        Jun   \n",
       "3      2021-06-20  22:37:13.825000   Jun  2021-06-20  22:37:11        Jun   \n",
       "0      2021-06-20  19:56:35.162000   Jun  2021-06-20  19:53:02        Jun   \n",
       "\n",
       "              readable_date parsed_date parsed_time parsed_month  \n",
       "25237   4 May 2025 17:55:09  2025-05-04    17:55:09          May  \n",
       "25236   4 May 2025 17:54:50  2025-05-04    17:54:50          May  \n",
       "25235   4 May 2025 17:53:04  2025-05-04    17:53:04          May  \n",
       "25234   4 May 2025 17:52:58  2025-05-04    17:52:58          May  \n",
       "25233   4 May 2025 15:09:06  2025-05-04    15:09:06          May  \n",
       "...                     ...         ...         ...          ...  \n",
       "28     21 Jun 2021 10:59:48  2021-06-21    10:59:48          Jun  \n",
       "2      20 Jun 2021 22:19:29  2021-06-20    22:19:29          Jun  \n",
       "1      20 Jun 2021 20:07:15  2021-06-20    20:07:15          Jun  \n",
       "3      20 Jun 2021 22:37:13  2021-06-20    22:37:13          Jun  \n",
       "0      20 Jun 2021 19:56:35  2021-06-20    19:56:35          Jun  \n",
       "\n",
       "[25238 rows x 14 columns]"
      ]
     },
     "execution_count": 14,
     "metadata": {},
     "output_type": "execute_result"
    }
   ],
   "source": [
    "df.sort_values('date',ascending=False)"
   ]
  },
  {
   "cell_type": "code",
   "execution_count": 12,
   "id": "46119c6f",
   "metadata": {},
   "outputs": [
    {
     "data": {
      "text/plain": [
       "contact_name\n",
       "(Unknown)                      24689\n",
       "P Bhaiya jio                      81\n",
       "Akhand Paapi 1                    58\n",
       "Perpendicular Bro                 49\n",
       "Saigal 3                          27\n",
       "                               ...  \n",
       "sajid jio                          1\n",
       "Shahid New                         1\n",
       "b idea                             1\n",
       "B jio                              1\n",
       "Ayesha Changezi Mehez Tutor        1\n",
       "Name: count, Length: 75, dtype: int64"
      ]
     },
     "execution_count": 12,
     "metadata": {},
     "output_type": "execute_result"
    }
   ],
   "source": [
    "df['contact_name'].value_counts()"
   ]
  },
  {
   "cell_type": "code",
   "execution_count": 30,
   "id": "aa1a8dff",
   "metadata": {},
   "outputs": [
    {
     "data": {
      "text/plain": [
       "3812"
      ]
     },
     "execution_count": 30,
     "metadata": {},
     "output_type": "execute_result"
    }
   ],
   "source": [
    "df['address'].nunique()"
   ]
  },
  {
   "cell_type": "code",
   "execution_count": 26,
   "id": "fa19bff0",
   "metadata": {},
   "outputs": [
    {
     "data": {
      "text/plain": [
       "'1414 days, 0:00:00'"
      ]
     },
     "execution_count": 26,
     "metadata": {},
     "output_type": "execute_result"
    }
   ],
   "source": [
    "str(df.date.max() - df.date.min() )"
   ]
  },
  {
   "cell_type": "code",
   "execution_count": 29,
   "id": "4cec76fc",
   "metadata": {},
   "outputs": [
    {
     "data": {
      "text/plain": [
       "317.55"
      ]
     },
     "execution_count": 29,
     "metadata": {},
     "output_type": "execute_result"
    }
   ],
   "source": [
    "365*87/100"
   ]
  },
  {
   "cell_type": "code",
   "execution_count": 28,
   "id": "0181c489",
   "metadata": {},
   "outputs": [
    {
     "data": {
      "text/plain": [
       "3.873972602739726"
      ]
     },
     "execution_count": 28,
     "metadata": {},
     "output_type": "execute_result"
    }
   ],
   "source": [
    "1414/365"
   ]
  },
  {
   "cell_type": "code",
   "execution_count": 21,
   "id": "49e711a7",
   "metadata": {},
   "outputs": [
    {
     "data": {
      "text/plain": [
       "datetime.date(2021, 6, 20)"
      ]
     },
     "execution_count": 21,
     "metadata": {},
     "output_type": "execute_result"
    }
   ],
   "source": [
    "df.date.min()"
   ]
  },
  {
   "cell_type": "code",
   "execution_count": null,
   "id": "1a736d2d",
   "metadata": {},
   "outputs": [],
   "source": []
  },
  {
   "cell_type": "code",
   "execution_count": 16,
   "id": "e2825c2a",
   "metadata": {},
   "outputs": [],
   "source": [
    "df_known= df[df['contact_name']!='(Unknown)']\n",
    "df_unknown = df[df['contact_name']=='(Unknown)']\n"
   ]
  },
  {
   "cell_type": "code",
   "execution_count": 17,
   "id": "63d4cfb7",
   "metadata": {},
   "outputs": [
    {
     "data": {
      "text/html": [
       "<div>\n",
       "<style scoped>\n",
       "    .dataframe tbody tr th:only-of-type {\n",
       "        vertical-align: middle;\n",
       "    }\n",
       "\n",
       "    .dataframe tbody tr th {\n",
       "        vertical-align: top;\n",
       "    }\n",
       "\n",
       "    .dataframe thead th {\n",
       "        text-align: right;\n",
       "    }\n",
       "</style>\n",
       "<table border=\"1\" class=\"dataframe\">\n",
       "  <thead>\n",
       "    <tr style=\"text-align: right;\">\n",
       "      <th></th>\n",
       "      <th>address</th>\n",
       "      <th>subject</th>\n",
       "      <th>body</th>\n",
       "      <th>contact_name</th>\n",
       "      <th>date</th>\n",
       "      <th>time</th>\n",
       "      <th>month</th>\n",
       "      <th>date_sent</th>\n",
       "      <th>time_sent</th>\n",
       "      <th>month_sent</th>\n",
       "      <th>readable_date</th>\n",
       "      <th>parsed_date</th>\n",
       "      <th>parsed_time</th>\n",
       "      <th>parsed_month</th>\n",
       "    </tr>\n",
       "  </thead>\n",
       "  <tbody>\n",
       "    <tr>\n",
       "      <th>42</th>\n",
       "      <td>+919973183477</td>\n",
       "      <td>null</td>\n",
       "      <td>Make your life easier with Paytm! Send Money, ...</td>\n",
       "      <td>Molvi Saheb</td>\n",
       "      <td>2021-06-21</td>\n",
       "      <td>18:25:49.002000</td>\n",
       "      <td>Jun</td>\n",
       "      <td>1970-01-01</td>\n",
       "      <td>05:30:00</td>\n",
       "      <td>Jan</td>\n",
       "      <td>21 Jun 2021 18:25:49</td>\n",
       "      <td>2021-06-21</td>\n",
       "      <td>18:25:49</td>\n",
       "      <td>Jun</td>\n",
       "    </tr>\n",
       "    <tr>\n",
       "      <th>344</th>\n",
       "      <td>+917870826764</td>\n",
       "      <td>null</td>\n",
       "      <td>+917870826764 is now available to speak, call ...</td>\n",
       "      <td>Panna Baji Bihari</td>\n",
       "      <td>2021-07-05</td>\n",
       "      <td>11:28:17.449000</td>\n",
       "      <td>Jul</td>\n",
       "      <td>2021-07-05</td>\n",
       "      <td>11:28:16</td>\n",
       "      <td>Jul</td>\n",
       "      <td>5 Jul 2021 11:28:17</td>\n",
       "      <td>2021-07-05</td>\n",
       "      <td>11:28:17</td>\n",
       "      <td>Jul</td>\n",
       "    </tr>\n",
       "    <tr>\n",
       "      <th>368</th>\n",
       "      <td>+919934228244</td>\n",
       "      <td>null</td>\n",
       "      <td>+919934228244 is now available to speak, call ...</td>\n",
       "      <td>Sabder (Bhai)</td>\n",
       "      <td>2021-07-06</td>\n",
       "      <td>10:49:58.968000</td>\n",
       "      <td>Jul</td>\n",
       "      <td>2021-07-06</td>\n",
       "      <td>10:49:58</td>\n",
       "      <td>Jul</td>\n",
       "      <td>6 Jul 2021 10:49:58</td>\n",
       "      <td>2021-07-06</td>\n",
       "      <td>10:49:58</td>\n",
       "      <td>Jul</td>\n",
       "    </tr>\n",
       "    <tr>\n",
       "      <th>414</th>\n",
       "      <td>+917992376066</td>\n",
       "      <td>null</td>\n",
       "      <td>Bara chutiya aadmi ho yaar tm to</td>\n",
       "      <td>Akhand Paapi 3</td>\n",
       "      <td>2021-07-08</td>\n",
       "      <td>11:14:58.215000</td>\n",
       "      <td>Jul</td>\n",
       "      <td>2021-07-08</td>\n",
       "      <td>11:14:57</td>\n",
       "      <td>Jul</td>\n",
       "      <td>8 Jul 2021 11:14:58</td>\n",
       "      <td>2021-07-08</td>\n",
       "      <td>11:14:58</td>\n",
       "      <td>Jul</td>\n",
       "    </tr>\n",
       "    <tr>\n",
       "      <th>415</th>\n",
       "      <td>+917992376066</td>\n",
       "      <td>null</td>\n",
       "      <td>Rcv q n kr rahe ho be</td>\n",
       "      <td>Akhand Paapi 3</td>\n",
       "      <td>2021-07-08</td>\n",
       "      <td>11:15:03.230000</td>\n",
       "      <td>Jul</td>\n",
       "      <td>2021-07-08</td>\n",
       "      <td>11:15:01</td>\n",
       "      <td>Jul</td>\n",
       "      <td>8 Jul 2021 11:15:03</td>\n",
       "      <td>2021-07-08</td>\n",
       "      <td>11:15:03</td>\n",
       "      <td>Jul</td>\n",
       "    </tr>\n",
       "  </tbody>\n",
       "</table>\n",
       "</div>"
      ],
      "text/plain": [
       "           address subject                                               body  \\\n",
       "42   +919973183477    null  Make your life easier with Paytm! Send Money, ...   \n",
       "344  +917870826764    null  +917870826764 is now available to speak, call ...   \n",
       "368  +919934228244    null  +919934228244 is now available to speak, call ...   \n",
       "414  +917992376066    null                  Bara chutiya aadmi ho yaar tm to    \n",
       "415  +917992376066    null                             Rcv q n kr rahe ho be    \n",
       "\n",
       "          contact_name        date             time month   date_sent  \\\n",
       "42         Molvi Saheb  2021-06-21  18:25:49.002000   Jun  1970-01-01   \n",
       "344  Panna Baji Bihari  2021-07-05  11:28:17.449000   Jul  2021-07-05   \n",
       "368      Sabder (Bhai)  2021-07-06  10:49:58.968000   Jul  2021-07-06   \n",
       "414     Akhand Paapi 3  2021-07-08  11:14:58.215000   Jul  2021-07-08   \n",
       "415     Akhand Paapi 3  2021-07-08  11:15:03.230000   Jul  2021-07-08   \n",
       "\n",
       "    time_sent month_sent         readable_date parsed_date parsed_time  \\\n",
       "42   05:30:00        Jan  21 Jun 2021 18:25:49  2021-06-21    18:25:49   \n",
       "344  11:28:16        Jul   5 Jul 2021 11:28:17  2021-07-05    11:28:17   \n",
       "368  10:49:58        Jul   6 Jul 2021 10:49:58  2021-07-06    10:49:58   \n",
       "414  11:14:57        Jul   8 Jul 2021 11:14:58  2021-07-08    11:14:58   \n",
       "415  11:15:01        Jul   8 Jul 2021 11:15:03  2021-07-08    11:15:03   \n",
       "\n",
       "    parsed_month  \n",
       "42           Jun  \n",
       "344          Jul  \n",
       "368          Jul  \n",
       "414          Jul  \n",
       "415          Jul  "
      ]
     },
     "execution_count": 17,
     "metadata": {},
     "output_type": "execute_result"
    }
   ],
   "source": [
    "df_known.head()"
   ]
  },
  {
   "cell_type": "code",
   "execution_count": 18,
   "id": "82912e96",
   "metadata": {},
   "outputs": [
    {
     "data": {
      "text/plain": [
       "(549, 14)"
      ]
     },
     "execution_count": 18,
     "metadata": {},
     "output_type": "execute_result"
    }
   ],
   "source": [
    "df_known.shape"
   ]
  },
  {
   "cell_type": "code",
   "execution_count": 19,
   "id": "f009c9ff",
   "metadata": {},
   "outputs": [
    {
     "data": {
      "text/plain": [
       "contact_name\n",
       "P Bhaiya jio                   81\n",
       "Akhand Paapi 1                 58\n",
       "Perpendicular Bro              49\n",
       "Saigal 3                       27\n",
       "Ammi jio                       26\n",
       "                               ..\n",
       "Shahid Bhai Airtel              1\n",
       "b idea                          1\n",
       "Faiyaz Sachin                   1\n",
       "Pb                              1\n",
       "Ayesha Changezi Mehez Tutor     1\n",
       "Name: count, Length: 74, dtype: int64"
      ]
     },
     "execution_count": 19,
     "metadata": {},
     "output_type": "execute_result"
    }
   ],
   "source": [
    "df_known['contact_name'].value_counts()"
   ]
  },
  {
   "cell_type": "markdown",
   "id": "5b32a5f5",
   "metadata": {},
   "source": [
    "### Call analyis"
   ]
  },
  {
   "cell_type": "code",
   "execution_count": 43,
   "id": "425152d4",
   "metadata": {},
   "outputs": [
    {
     "data": {
      "text/plain": [
       "'2025-05-04'"
      ]
     },
     "execution_count": 43,
     "metadata": {},
     "output_type": "execute_result"
    }
   ],
   "source": [
    "str(datetime.today().date())"
   ]
  },
  {
   "cell_type": "code",
   "execution_count": 48,
   "id": "5f507d99",
   "metadata": {},
   "outputs": [
    {
     "data": {
      "text/plain": [
       "'/Users/zeynmehezmacbook/Desktop/AladinDocs/Git-Personal/Data-science-brush-up/general-analysis/data/calls-2025-05-04.xml'"
      ]
     },
     "execution_count": 48,
     "metadata": {},
     "output_type": "execute_result"
    }
   ],
   "source": [
    "os.path.join(DATA_PATH,file_name)"
   ]
  },
  {
   "cell_type": "code",
   "execution_count": 53,
   "id": "b25a8067",
   "metadata": {},
   "outputs": [],
   "source": [
    "file_name = f'calls-{str(datetime.today().date())}.xml'\n",
    "root_tree_call = ET.parse(os.path.join(DATA_PATH,file_name))  \n",
    "root_call = root_tree_call.getroot()\n",
    "\n",
    "call_data = []\n",
    "\n",
    "for call in root_call.findall('call'):\n",
    "    contact_name = call.attrib.get('contact_name')\n",
    "    contact_number = call.attrib.get('number')\n",
    "    duration = call.attrib.get('duration')\n",
    "    call_date = int(call.attrib.get('date'))\n",
    "    call_type = call.attrib.get('type')\n",
    "    presentation = call.attrib.get('presentation')\n",
    "    subscription_id = call.attrib.get('subscription_id')\n",
    "    readable_date= call.attrib.get('readable_date')\n",
    "    contact_name = call.attrib.get('contact_name')\n",
    "\n",
    "    date_d, date_t, date_m = parse_epoch(call_date)\n",
    "    readable_d, readable_t, readable_m = parse_readable_date(readable_date)\n",
    "\n",
    "    call_data.append( { \n",
    "        \n",
    "        'contact_name' : contact_name,\n",
    "        'contact_number' : contact_number,\n",
    "        'call_duration' : duration,\n",
    "        'call_date_unix' : call_date,\n",
    "        \"call_date\": date_d,\n",
    "        \"call_time\": date_t,\n",
    "        \"call_month\": date_m,\n",
    "        'call_type': call_type,\n",
    "        'presentation': presentation,\n",
    "        'subscription_id': subscription_id,\n",
    "        \"readable_date\": readable_date,\n",
    "        \"parsed_date\": readable_d,\n",
    "        \"parsed_time\": readable_t,\n",
    "        \"parsed_month\": readable_m,\n",
    "    })\n",
    "\n",
    "df_call = pd.DataFrame(call_data)"
   ]
  },
  {
   "cell_type": "code",
   "execution_count": 58,
   "id": "4570573d",
   "metadata": {},
   "outputs": [
    {
     "data": {
      "text/html": [
       "<div>\n",
       "<style scoped>\n",
       "    .dataframe tbody tr th:only-of-type {\n",
       "        vertical-align: middle;\n",
       "    }\n",
       "\n",
       "    .dataframe tbody tr th {\n",
       "        vertical-align: top;\n",
       "    }\n",
       "\n",
       "    .dataframe thead th {\n",
       "        text-align: right;\n",
       "    }\n",
       "</style>\n",
       "<table border=\"1\" class=\"dataframe\">\n",
       "  <thead>\n",
       "    <tr style=\"text-align: right;\">\n",
       "      <th></th>\n",
       "      <th>contact_name</th>\n",
       "      <th>contact_number</th>\n",
       "      <th>call_duration</th>\n",
       "      <th>call_date_unix</th>\n",
       "      <th>call_date</th>\n",
       "      <th>call_time</th>\n",
       "      <th>call_month</th>\n",
       "      <th>call_type</th>\n",
       "      <th>presentation</th>\n",
       "      <th>subscription_id</th>\n",
       "      <th>readable_date</th>\n",
       "      <th>parsed_date</th>\n",
       "      <th>parsed_time</th>\n",
       "      <th>parsed_month</th>\n",
       "    </tr>\n",
       "  </thead>\n",
       "  <tbody>\n",
       "    <tr>\n",
       "      <th>0</th>\n",
       "      <td>Distress Number</td>\n",
       "      <td>112</td>\n",
       "      <td>5</td>\n",
       "      <td>1700283531381</td>\n",
       "      <td>2023-11-18</td>\n",
       "      <td>10:28:51.381000</td>\n",
       "      <td>Nov</td>\n",
       "      <td>2</td>\n",
       "      <td>1</td>\n",
       "      <td>null</td>\n",
       "      <td>18 Nov 2023 10:28:51</td>\n",
       "      <td>2023-11-18</td>\n",
       "      <td>10:28:51</td>\n",
       "      <td>Nov</td>\n",
       "    </tr>\n",
       "    <tr>\n",
       "      <th>1</th>\n",
       "      <td>Distress Number</td>\n",
       "      <td>112</td>\n",
       "      <td>0</td>\n",
       "      <td>1700378206611</td>\n",
       "      <td>2023-11-19</td>\n",
       "      <td>12:46:46.611000</td>\n",
       "      <td>Nov</td>\n",
       "      <td>2</td>\n",
       "      <td>1</td>\n",
       "      <td>null</td>\n",
       "      <td>19 Nov 2023 12:46:46</td>\n",
       "      <td>2023-11-19</td>\n",
       "      <td>12:46:46</td>\n",
       "      <td>Nov</td>\n",
       "    </tr>\n",
       "    <tr>\n",
       "      <th>2</th>\n",
       "      <td>Distress Number</td>\n",
       "      <td>112</td>\n",
       "      <td>5</td>\n",
       "      <td>1700479146777</td>\n",
       "      <td>2023-11-20</td>\n",
       "      <td>16:49:06.777000</td>\n",
       "      <td>Nov</td>\n",
       "      <td>2</td>\n",
       "      <td>1</td>\n",
       "      <td>null</td>\n",
       "      <td>20 Nov 2023 16:49:06</td>\n",
       "      <td>2023-11-20</td>\n",
       "      <td>16:49:06</td>\n",
       "      <td>Nov</td>\n",
       "    </tr>\n",
       "    <tr>\n",
       "      <th>3</th>\n",
       "      <td>Ammi jio</td>\n",
       "      <td>9875329450</td>\n",
       "      <td>0</td>\n",
       "      <td>1707793615938</td>\n",
       "      <td>2024-02-13</td>\n",
       "      <td>08:36:55.938000</td>\n",
       "      <td>Feb</td>\n",
       "      <td>2</td>\n",
       "      <td>1</td>\n",
       "      <td>89910273406031478756</td>\n",
       "      <td>13 Feb 2024 08:36:55</td>\n",
       "      <td>2024-02-13</td>\n",
       "      <td>08:36:55</td>\n",
       "      <td>Feb</td>\n",
       "    </tr>\n",
       "    <tr>\n",
       "      <th>4</th>\n",
       "      <td>Ammi jio</td>\n",
       "      <td>9875329450</td>\n",
       "      <td>0</td>\n",
       "      <td>1707793631718</td>\n",
       "      <td>2024-02-13</td>\n",
       "      <td>08:37:11.718000</td>\n",
       "      <td>Feb</td>\n",
       "      <td>2</td>\n",
       "      <td>1</td>\n",
       "      <td>89910273406031478756</td>\n",
       "      <td>13 Feb 2024 08:37:11</td>\n",
       "      <td>2024-02-13</td>\n",
       "      <td>08:37:11</td>\n",
       "      <td>Feb</td>\n",
       "    </tr>\n",
       "    <tr>\n",
       "      <th>...</th>\n",
       "      <td>...</td>\n",
       "      <td>...</td>\n",
       "      <td>...</td>\n",
       "      <td>...</td>\n",
       "      <td>...</td>\n",
       "      <td>...</td>\n",
       "      <td>...</td>\n",
       "      <td>...</td>\n",
       "      <td>...</td>\n",
       "      <td>...</td>\n",
       "      <td>...</td>\n",
       "      <td>...</td>\n",
       "      <td>...</td>\n",
       "      <td>...</td>\n",
       "    </tr>\n",
       "    <tr>\n",
       "      <th>2582</th>\n",
       "      <td>Tetiya Rashid</td>\n",
       "      <td>+918777058007</td>\n",
       "      <td>157</td>\n",
       "      <td>1746339996715</td>\n",
       "      <td>2025-05-04</td>\n",
       "      <td>11:56:36.715000</td>\n",
       "      <td>May</td>\n",
       "      <td>2</td>\n",
       "      <td>1</td>\n",
       "      <td>1</td>\n",
       "      <td>4 May 2025 11:56:36</td>\n",
       "      <td>2025-05-04</td>\n",
       "      <td>11:56:36</td>\n",
       "      <td>May</td>\n",
       "    </tr>\n",
       "    <tr>\n",
       "      <th>2583</th>\n",
       "      <td>(Unknown)</td>\n",
       "      <td>+911246452835</td>\n",
       "      <td>0</td>\n",
       "      <td>1746344447849</td>\n",
       "      <td>2025-05-04</td>\n",
       "      <td>13:10:47.849000</td>\n",
       "      <td>May</td>\n",
       "      <td>3</td>\n",
       "      <td>1</td>\n",
       "      <td>2</td>\n",
       "      <td>4 May 2025 13:10:47</td>\n",
       "      <td>2025-05-04</td>\n",
       "      <td>13:10:47</td>\n",
       "      <td>May</td>\n",
       "    </tr>\n",
       "    <tr>\n",
       "      <th>2584</th>\n",
       "      <td>(Unknown)</td>\n",
       "      <td>+911246452835</td>\n",
       "      <td>259</td>\n",
       "      <td>1746345279382</td>\n",
       "      <td>2025-05-04</td>\n",
       "      <td>13:24:39.382000</td>\n",
       "      <td>May</td>\n",
       "      <td>1</td>\n",
       "      <td>1</td>\n",
       "      <td>2</td>\n",
       "      <td>4 May 2025 13:24:39</td>\n",
       "      <td>2025-05-04</td>\n",
       "      <td>13:24:39</td>\n",
       "      <td>May</td>\n",
       "    </tr>\n",
       "    <tr>\n",
       "      <th>2585</th>\n",
       "      <td>Ammi jio</td>\n",
       "      <td>+919875329450</td>\n",
       "      <td>66</td>\n",
       "      <td>1746347165570</td>\n",
       "      <td>2025-05-04</td>\n",
       "      <td>13:56:05.570000</td>\n",
       "      <td>May</td>\n",
       "      <td>2</td>\n",
       "      <td>1</td>\n",
       "      <td>1</td>\n",
       "      <td>4 May 2025 13:56:05</td>\n",
       "      <td>2025-05-04</td>\n",
       "      <td>13:56:05</td>\n",
       "      <td>May</td>\n",
       "    </tr>\n",
       "    <tr>\n",
       "      <th>2586</th>\n",
       "      <td>(Unknown)</td>\n",
       "      <td>+913340585370</td>\n",
       "      <td>12</td>\n",
       "      <td>1746363595942</td>\n",
       "      <td>2025-05-04</td>\n",
       "      <td>18:29:55.942000</td>\n",
       "      <td>May</td>\n",
       "      <td>1</td>\n",
       "      <td>1</td>\n",
       "      <td>1</td>\n",
       "      <td>4 May 2025 18:29:55</td>\n",
       "      <td>2025-05-04</td>\n",
       "      <td>18:29:55</td>\n",
       "      <td>May</td>\n",
       "    </tr>\n",
       "  </tbody>\n",
       "</table>\n",
       "<p>2587 rows × 14 columns</p>\n",
       "</div>"
      ],
      "text/plain": [
       "         contact_name contact_number call_duration  call_date_unix  \\\n",
       "0     Distress Number            112             5   1700283531381   \n",
       "1     Distress Number            112             0   1700378206611   \n",
       "2     Distress Number            112             5   1700479146777   \n",
       "3            Ammi jio     9875329450             0   1707793615938   \n",
       "4            Ammi jio     9875329450             0   1707793631718   \n",
       "...               ...            ...           ...             ...   \n",
       "2582    Tetiya Rashid  +918777058007           157   1746339996715   \n",
       "2583        (Unknown)  +911246452835             0   1746344447849   \n",
       "2584        (Unknown)  +911246452835           259   1746345279382   \n",
       "2585         Ammi jio  +919875329450            66   1746347165570   \n",
       "2586        (Unknown)  +913340585370            12   1746363595942   \n",
       "\n",
       "       call_date        call_time call_month call_type presentation  \\\n",
       "0     2023-11-18  10:28:51.381000        Nov         2            1   \n",
       "1     2023-11-19  12:46:46.611000        Nov         2            1   \n",
       "2     2023-11-20  16:49:06.777000        Nov         2            1   \n",
       "3     2024-02-13  08:36:55.938000        Feb         2            1   \n",
       "4     2024-02-13  08:37:11.718000        Feb         2            1   \n",
       "...          ...              ...        ...       ...          ...   \n",
       "2582  2025-05-04  11:56:36.715000        May         2            1   \n",
       "2583  2025-05-04  13:10:47.849000        May         3            1   \n",
       "2584  2025-05-04  13:24:39.382000        May         1            1   \n",
       "2585  2025-05-04  13:56:05.570000        May         2            1   \n",
       "2586  2025-05-04  18:29:55.942000        May         1            1   \n",
       "\n",
       "           subscription_id         readable_date parsed_date parsed_time  \\\n",
       "0                     null  18 Nov 2023 10:28:51  2023-11-18    10:28:51   \n",
       "1                     null  19 Nov 2023 12:46:46  2023-11-19    12:46:46   \n",
       "2                     null  20 Nov 2023 16:49:06  2023-11-20    16:49:06   \n",
       "3     89910273406031478756  13 Feb 2024 08:36:55  2024-02-13    08:36:55   \n",
       "4     89910273406031478756  13 Feb 2024 08:37:11  2024-02-13    08:37:11   \n",
       "...                    ...                   ...         ...         ...   \n",
       "2582                     1   4 May 2025 11:56:36  2025-05-04    11:56:36   \n",
       "2583                     2   4 May 2025 13:10:47  2025-05-04    13:10:47   \n",
       "2584                     2   4 May 2025 13:24:39  2025-05-04    13:24:39   \n",
       "2585                     1   4 May 2025 13:56:05  2025-05-04    13:56:05   \n",
       "2586                     1   4 May 2025 18:29:55  2025-05-04    18:29:55   \n",
       "\n",
       "     parsed_month  \n",
       "0             Nov  \n",
       "1             Nov  \n",
       "2             Nov  \n",
       "3             Feb  \n",
       "4             Feb  \n",
       "...           ...  \n",
       "2582          May  \n",
       "2583          May  \n",
       "2584          May  \n",
       "2585          May  \n",
       "2586          May  \n",
       "\n",
       "[2587 rows x 14 columns]"
      ]
     },
     "execution_count": 58,
     "metadata": {},
     "output_type": "execute_result"
    }
   ],
   "source": [
    "df_call"
   ]
  },
  {
   "cell_type": "code",
   "execution_count": 74,
   "id": "3b6f922f",
   "metadata": {},
   "outputs": [
    {
     "data": {
      "text/plain": [
       "datetime.date(2025, 5, 4)"
      ]
     },
     "execution_count": 74,
     "metadata": {},
     "output_type": "execute_result"
    }
   ],
   "source": [
    "df_call.call_date.max()"
   ]
  },
  {
   "cell_type": "code",
   "execution_count": 75,
   "id": "8d0270a6",
   "metadata": {},
   "outputs": [
    {
     "data": {
      "text/plain": [
       "datetime.date(2023, 11, 18)"
      ]
     },
     "execution_count": 75,
     "metadata": {},
     "output_type": "execute_result"
    }
   ],
   "source": [
    "df_call.call_date.min()"
   ]
  },
  {
   "cell_type": "code",
   "execution_count": 76,
   "id": "1b182fe6",
   "metadata": {},
   "outputs": [
    {
     "data": {
      "text/plain": [
       "datetime.timedelta(days=533)"
      ]
     },
     "execution_count": 76,
     "metadata": {},
     "output_type": "execute_result"
    }
   ],
   "source": [
    "df_call.call_date.max() - df_call.call_date.min()"
   ]
  },
  {
   "cell_type": "code",
   "execution_count": 62,
   "id": "c59a2921",
   "metadata": {},
   "outputs": [],
   "source": [
    "df_call['call_duration'] = df_call['call_duration'].astype(int)"
   ]
  },
  {
   "cell_type": "code",
   "execution_count": 61,
   "id": "b28b87cf",
   "metadata": {},
   "outputs": [
    {
     "name": "stdout",
     "output_type": "stream",
     "text": [
      "<class 'pandas.core.frame.DataFrame'>\n",
      "RangeIndex: 2587 entries, 0 to 2586\n",
      "Data columns (total 14 columns):\n",
      " #   Column           Non-Null Count  Dtype \n",
      "---  ------           --------------  ----- \n",
      " 0   contact_name     2587 non-null   object\n",
      " 1   contact_number   2587 non-null   object\n",
      " 2   call_duration    2587 non-null   object\n",
      " 3   call_date_unix   2587 non-null   int64 \n",
      " 4   call_date        2587 non-null   object\n",
      " 5   call_time        2587 non-null   object\n",
      " 6   call_month       2587 non-null   object\n",
      " 7   call_type        2587 non-null   object\n",
      " 8   presentation     2587 non-null   object\n",
      " 9   subscription_id  2587 non-null   object\n",
      " 10  readable_date    2587 non-null   object\n",
      " 11  parsed_date      2587 non-null   object\n",
      " 12  parsed_time      2587 non-null   object\n",
      " 13  parsed_month     2587 non-null   object\n",
      "dtypes: int64(1), object(13)\n",
      "memory usage: 283.1+ KB\n"
     ]
    }
   ],
   "source": [
    "df_call.info()"
   ]
  },
  {
   "cell_type": "code",
   "execution_count": 63,
   "id": "9865a28a",
   "metadata": {},
   "outputs": [
    {
     "data": {
      "text/plain": [
       "contact_name\n",
       "(Unknown)            756\n",
       "Ammi jio             325\n",
       "P Bhaiya jio         277\n",
       "Tetiya Rashid        111\n",
       "Perpendicular Bro    101\n",
       "                    ... \n",
       "Asrar Bhai             1\n",
       "customer care          1\n",
       "Rahul Kotak            1\n",
       "Aisha Phua             1\n",
       "Awal New 2             1\n",
       "Name: count, Length: 81, dtype: int64"
      ]
     },
     "execution_count": 63,
     "metadata": {},
     "output_type": "execute_result"
    }
   ],
   "source": [
    "df_call['contact_name'].value_counts()"
   ]
  },
  {
   "cell_type": "code",
   "execution_count": 81,
   "id": "423794cc",
   "metadata": {},
   "outputs": [],
   "source": [
    "def assign_time_schedule(time_obj):\n",
    "    hour = time_obj.hour\n",
    "    if 4 <= hour < 8:\n",
    "        return \"Early Morning(4am-8am)\"\n",
    "    elif 8 <= hour < 12:\n",
    "        return \"Morning(8am-12pm)\"\n",
    "    elif 12 <= hour < 14:\n",
    "        return \"Mid Day(12pm-2pm)\"\n",
    "    elif 14 <= hour < 18:\n",
    "        return \"Day(2pm-6pm)\"\n",
    "    elif 18 <= hour < 20:\n",
    "        return \"Evening(6pm-8pm)\"\n",
    "    elif 20<= hour < 22:\n",
    "        return \"Night(8pm-10pm)\"\n",
    "    else:\n",
    "        return \"Late Night(after 10pm)\"\n",
    "\n",
    "df_call['call_time_schedule'] = df_call['parsed_time'].apply(assign_time_schedule)\n"
   ]
  },
  {
   "cell_type": "code",
   "execution_count": 82,
   "id": "a51f1e7f",
   "metadata": {},
   "outputs": [
    {
     "name": "stderr",
     "output_type": "stream",
     "text": [
      "/var/folders/cd/0xwqxqbn22gdpcvtvsgqbzg00000gn/T/ipykernel_22132/3999671897.py:7: FutureWarning: \n",
      "\n",
      "Passing `palette` without assigning `hue` is deprecated and will be removed in v0.14.0. Assign the `x` variable to `hue` and set `legend=False` for the same effect.\n",
      "\n",
      "  sns.barplot(x=schedule_counts.index, y=schedule_counts.values, palette='Set2')\n"
     ]
    },
    {
     "data": {
      "image/png": "[encoded data removed]",
      "text/plain": [
       "<Figure size 1000x500 with 1 Axes>"
      ]
     },
     "metadata": {},
     "output_type": "display_data"
    }
   ],
   "source": [
    "\n",
    "schedule_order = [\"Early Morning(4am-8am)\", \"Morning(8am-12pm)\", \"Mid Day(12pm-2pm)\", \"Day(2pm-6pm)\", \"Evening(6pm-8pm)\", \"Night(8pm-10pm)\",\"Late Night(after 10pm)\"]\n",
    "\n",
    "schedule_counts = df_call['call_time_schedule'].value_counts().reindex(schedule_order)\n",
    "\n",
    "# Plot\n",
    "plt.figure(figsize=(10, 5))\n",
    "sns.barplot(x=schedule_counts.index, y=schedule_counts.values, palette='Set2')\n",
    "\n",
    "plt.title(\"Number of Calls by Time Schedule\")\n",
    "plt.xlabel(\"Call Time Schedule\")\n",
    "plt.ylabel(\"Number of Calls\")\n",
    "plt.xticks(rotation=30)\n",
    "plt.tight_layout()\n",
    "plt.show()\n"
   ]
  },
  {
   "cell_type": "code",
   "execution_count": 67,
   "id": "c28a61f4",
   "metadata": {},
   "outputs": [
    {
     "data": {
      "text/html": [
       "<div>\n",
       "<style scoped>\n",
       "    .dataframe tbody tr th:only-of-type {\n",
       "        vertical-align: middle;\n",
       "    }\n",
       "\n",
       "    .dataframe tbody tr th {\n",
       "        vertical-align: top;\n",
       "    }\n",
       "\n",
       "    .dataframe thead th {\n",
       "        text-align: right;\n",
       "    }\n",
       "</style>\n",
       "<table border=\"1\" class=\"dataframe\">\n",
       "  <thead>\n",
       "    <tr style=\"text-align: right;\">\n",
       "      <th></th>\n",
       "      <th>contact_name</th>\n",
       "      <th>total_call_duration</th>\n",
       "    </tr>\n",
       "  </thead>\n",
       "  <tbody>\n",
       "    <tr>\n",
       "      <th>0</th>\n",
       "      <td>(Unknown)</td>\n",
       "      <td>35417</td>\n",
       "    </tr>\n",
       "    <tr>\n",
       "      <th>1</th>\n",
       "      <td>Abhishek Sahtha Mitti</td>\n",
       "      <td>350</td>\n",
       "    </tr>\n",
       "    <tr>\n",
       "      <th>2</th>\n",
       "      <td>Aisha Phua</td>\n",
       "      <td>56</td>\n",
       "    </tr>\n",
       "    <tr>\n",
       "      <th>3</th>\n",
       "      <td>Akhand Paapi 1</td>\n",
       "      <td>0</td>\n",
       "    </tr>\n",
       "    <tr>\n",
       "      <th>4</th>\n",
       "      <td>Akhand Paapi 3</td>\n",
       "      <td>0</td>\n",
       "    </tr>\n",
       "    <tr>\n",
       "      <th>...</th>\n",
       "      <td>...</td>\n",
       "      <td>...</td>\n",
       "    </tr>\n",
       "    <tr>\n",
       "      <th>76</th>\n",
       "      <td>crompton lalganj</td>\n",
       "      <td>571</td>\n",
       "    </tr>\n",
       "    <tr>\n",
       "      <th>77</th>\n",
       "      <td>customer care</td>\n",
       "      <td>358</td>\n",
       "    </tr>\n",
       "    <tr>\n",
       "      <th>78</th>\n",
       "      <td>prem chopra postman</td>\n",
       "      <td>38</td>\n",
       "    </tr>\n",
       "    <tr>\n",
       "      <th>79</th>\n",
       "      <td>rajesh majhi</td>\n",
       "      <td>0</td>\n",
       "    </tr>\n",
       "    <tr>\n",
       "      <th>80</th>\n",
       "      <td>shahid bhai j</td>\n",
       "      <td>1337</td>\n",
       "    </tr>\n",
       "  </tbody>\n",
       "</table>\n",
       "<p>81 rows × 2 columns</p>\n",
       "</div>"
      ],
      "text/plain": [
       "             contact_name  total_call_duration\n",
       "0               (Unknown)                35417\n",
       "1   Abhishek Sahtha Mitti                  350\n",
       "2              Aisha Phua                   56\n",
       "3          Akhand Paapi 1                    0\n",
       "4          Akhand Paapi 3                    0\n",
       "..                    ...                  ...\n",
       "76       crompton lalganj                  571\n",
       "77          customer care                  358\n",
       "78    prem chopra postman                   38\n",
       "79           rajesh majhi                    0\n",
       "80          shahid bhai j                 1337\n",
       "\n",
       "[81 rows x 2 columns]"
      ]
     },
     "execution_count": 67,
     "metadata": {},
     "output_type": "execute_result"
    }
   ],
   "source": [
    "call_time_analysis = df_call.groupby('contact_name').agg({'call_duration':'sum'}).reset_index().rename({'call_duration':'total_call_duration'},axis=1)\n",
    "call_time_analysis"
   ]
  },
  {
   "cell_type": "code",
   "execution_count": 70,
   "id": "1e96fff8",
   "metadata": {},
   "outputs": [
    {
     "data": {
      "text/plain": [
       "<Axes: >"
      ]
     },
     "execution_count": 70,
     "metadata": {},
     "output_type": "execute_result"
    },
    {
     "data": {
      "image/png": "[encoded data removed]",
      "text/plain": [
       "<Figure size 640x480 with 1 Axes>"
      ]
     },
     "metadata": {},
     "output_type": "display_data"
    }
   ],
   "source": [
    "call_time_analysis['total_call_duration'].plot()"
   ]
  },
  {
   "cell_type": "code",
   "execution_count": 73,
   "id": "f9333778",
   "metadata": {},
   "outputs": [
    {
     "name": "stderr",
     "output_type": "stream",
     "text": [
      "/var/folders/cd/0xwqxqbn22gdpcvtvsgqbzg00000gn/T/ipykernel_22132/3734189382.py:7: FutureWarning: \n",
      "\n",
      "Passing `palette` without assigning `hue` is deprecated and will be removed in v0.14.0. Assign the `y` variable to `hue` and set `legend=False` for the same effect.\n",
      "\n",
      "  sns.barplot(\n"
     ]
    },
    {
     "data": {
      "image/png": "[encoded data removed]",
      "text/plain": [
       "<Figure size 1000x600 with 1 Axes>"
      ]
     },
     "metadata": {},
     "output_type": "display_data"
    }
   ],
   "source": [
    "df_sorted = call_time_analysis.sort_values(by='total_call_duration', ascending=False)\n",
    "\n",
    "top_df = df_sorted.head(20)\n",
    "\n",
    "# Plot\n",
    "plt.figure(figsize=(10, 6))\n",
    "sns.barplot(\n",
    "    data=top_df,\n",
    "    y='contact_name',\n",
    "    x='total_call_duration',\n",
    "    palette='viridis'\n",
    ")\n",
    "\n",
    "plt.xlabel(\"Total Call Duration (seconds)\")\n",
    "plt.ylabel(\"Contact Name\")\n",
    "plt.title(\"Top 20 Contacts by Total Call Duration\")\n",
    "plt.tight_layout()\n",
    "plt.show()"
   ]
  },
  {
   "cell_type": "code",
   "execution_count": 84,
   "id": "7118573d",
   "metadata": {},
   "outputs": [],
   "source": [
    "grouped = df_call.groupby(['call_time_schedule', 'contact_name']).size().reset_index(name='call_count')\n",
    "\n",
    "top_contacts = grouped.sort_values(['call_time_schedule', 'call_count'], ascending=[True, False])\n",
    "\n",
    "# For each time slot, get the top 1 (or top N if needed)\n",
    "top_contact_per_schedule = top_contacts.groupby('call_time_schedule').first().reset_index()\n"
   ]
  },
  {
   "cell_type": "code",
   "execution_count": 85,
   "id": "280c7a54",
   "metadata": {},
   "outputs": [
    {
     "data": {
      "text/html": [
       "<div>\n",
       "<style scoped>\n",
       "    .dataframe tbody tr th:only-of-type {\n",
       "        vertical-align: middle;\n",
       "    }\n",
       "\n",
       "    .dataframe tbody tr th {\n",
       "        vertical-align: top;\n",
       "    }\n",
       "\n",
       "    .dataframe thead th {\n",
       "        text-align: right;\n",
       "    }\n",
       "</style>\n",
       "<table border=\"1\" class=\"dataframe\">\n",
       "  <thead>\n",
       "    <tr style=\"text-align: right;\">\n",
       "      <th></th>\n",
       "      <th>call_time_schedule</th>\n",
       "      <th>contact_name</th>\n",
       "      <th>call_count</th>\n",
       "    </tr>\n",
       "  </thead>\n",
       "  <tbody>\n",
       "    <tr>\n",
       "      <th>0</th>\n",
       "      <td>Day(2pm-6pm)</td>\n",
       "      <td>(Unknown)</td>\n",
       "      <td>309</td>\n",
       "    </tr>\n",
       "    <tr>\n",
       "      <th>1</th>\n",
       "      <td>Early Morning(4am-8am)</td>\n",
       "      <td>Ammi jio</td>\n",
       "      <td>26</td>\n",
       "    </tr>\n",
       "    <tr>\n",
       "      <th>2</th>\n",
       "      <td>Evening(6pm-8pm)</td>\n",
       "      <td>(Unknown)</td>\n",
       "      <td>81</td>\n",
       "    </tr>\n",
       "    <tr>\n",
       "      <th>3</th>\n",
       "      <td>Late Night(after 10pm)</td>\n",
       "      <td>P Bhaiya jio</td>\n",
       "      <td>23</td>\n",
       "    </tr>\n",
       "    <tr>\n",
       "      <th>4</th>\n",
       "      <td>Mid Day(12pm-2pm)</td>\n",
       "      <td>(Unknown)</td>\n",
       "      <td>144</td>\n",
       "    </tr>\n",
       "    <tr>\n",
       "      <th>5</th>\n",
       "      <td>Morning(8am-12pm)</td>\n",
       "      <td>(Unknown)</td>\n",
       "      <td>157</td>\n",
       "    </tr>\n",
       "    <tr>\n",
       "      <th>6</th>\n",
       "      <td>Night(8pm-10pm)</td>\n",
       "      <td>P Bhaiya jio</td>\n",
       "      <td>44</td>\n",
       "    </tr>\n",
       "  </tbody>\n",
       "</table>\n",
       "</div>"
      ],
      "text/plain": [
       "       call_time_schedule  contact_name  call_count\n",
       "0            Day(2pm-6pm)     (Unknown)         309\n",
       "1  Early Morning(4am-8am)      Ammi jio          26\n",
       "2        Evening(6pm-8pm)     (Unknown)          81\n",
       "3  Late Night(after 10pm)  P Bhaiya jio          23\n",
       "4       Mid Day(12pm-2pm)     (Unknown)         144\n",
       "5       Morning(8am-12pm)     (Unknown)         157\n",
       "6         Night(8pm-10pm)  P Bhaiya jio          44"
      ]
     },
     "execution_count": 85,
     "metadata": {},
     "output_type": "execute_result"
    }
   ],
   "source": [
    "top_contact_per_schedule"
   ]
  },
  {
   "cell_type": "code",
   "execution_count": 86,
   "id": "c9ab1e60",
   "metadata": {},
   "outputs": [
    {
     "data": {
      "image/png": "[encoded data removed]",
      "text/plain": [
       "<Figure size 1000x600 with 1 Axes>"
      ]
     },
     "metadata": {},
     "output_type": "display_data"
    }
   ],
   "source": [
    "plt.figure(figsize=(10, 6))\n",
    "sns.barplot(\n",
    "    data=top_contact_per_schedule,\n",
    "    x='call_time_schedule',\n",
    "    y='call_count',\n",
    "    hue='contact_name',\n",
    "    dodge=False,\n",
    "    palette='pastel'\n",
    ")\n",
    "\n",
    "plt.title(\"Most Active Contact per Time Block\")\n",
    "plt.xlabel(\"Call Time Schedule\")\n",
    "plt.ylabel(\"Number of Calls\")\n",
    "plt.xticks(rotation=30)\n",
    "plt.legend(title='Contact Name')\n",
    "plt.tight_layout()\n",
    "plt.show()"
   ]
  },
  {
   "cell_type": "code",
   "execution_count": null,
   "id": "53731252",
   "metadata": {},
   "outputs": [
    {
     "name": "stderr",
     "output_type": "stream",
     "text": [
      "/var/folders/cd/0xwqxqbn22gdpcvtvsgqbzg00000gn/T/ipykernel_22132/2307486179.py:10: FutureWarning: \n",
      "\n",
      "Passing `palette` without assigning `hue` is deprecated and will be removed in v0.14.0. Assign the `x` variable to `hue` and set `legend=False` for the same effect.\n",
      "\n",
      "  sns.barplot(x=schedule_counts.index, y=schedule_counts.values, palette='coolwarm')\n"
     ]
    },
    {
     "data": {
      "image/png": "[encoded data removed]",
      "text/plain": [
       "<Figure size 800x500 with 1 Axes>"
      ]
     },
     "metadata": {},
     "output_type": "display_data"
    },
    {
     "name": "stdout",
     "output_type": "stream",
     "text": [
      "Object `instantly` not found.\n"
     ]
    }
   ],
   "source": [
    "target_contact = \"Romio Majnu\"  # <-- change this\n",
    "\n",
    "contact_df = df_call[df_call['contact_name'] == target_contact]\n",
    "\n",
    "schedule_order = [\"Early Morning(4am-8am)\", \"Morning(8am-12pm)\", \"Mid Day(12pm-2pm)\", \"Day(2pm-6pm)\", \"Evening(6pm-8pm)\", \"Night(8pm-10pm)\",\"Late Night(after 10pm)\"]\n",
    "schedule_counts = contact_df['call_time_schedule'].value_counts().reindex(schedule_order, fill_value=0)\n",
    "\n",
    "# Plot\n",
    "plt.figure(figsize=(8, 5))\n",
    "sns.barplot(x=schedule_counts.index, y=schedule_counts.values, palette='coolwarm')\n",
    "\n",
    "plt.title(f\"Call Schedule Distribution for {target_contact}\")\n",
    "plt.xlabel(\"Call Time Schedule\")\n",
    "plt.ylabel(\"Number of Calls\")\n",
    "plt.xticks(rotation=30)\n",
    "plt.tight_layout()\n",
    "plt.show()"
   ]
  },
  {
   "cell_type": "code",
   "execution_count": 88,
   "id": "ab8b19f9",
   "metadata": {},
   "outputs": [],
   "source": [
    "\n",
    "\n",
    "def plot_call_schedule_for_contact(df, contact_name):\n",
    "    \"\"\"\n",
    "    Plot call time schedule distribution for a given contact name.\n",
    "    \n",
    "    Args:\n",
    "        df (pd.DataFrame): DataFrame with 'contact_name' and 'call_time_schedule'.\n",
    "        contact_name (str): Contact name to filter and visualize.\n",
    "    \"\"\"\n",
    "    schedule_order = [\"Early Morning(4am-8am)\", \"Morning(8am-12pm)\", \"Mid Day(12pm-2pm)\", \"Day(2pm-6pm)\", \"Evening(6pm-8pm)\", \"Night(8pm-10pm)\",\"Late Night(after 10pm)\"]\n",
    "\n",
    "    # Filter for the specific contact\n",
    "    contact_df = df[df['contact_name'] == contact_name]\n",
    "\n",
    "    if contact_df.empty:\n",
    "        print(f\"No data found for contact: {contact_name}\")\n",
    "        return\n",
    "\n",
    "    # Count time schedule frequencies\n",
    "    schedule_counts = (\n",
    "        contact_df['call_time_schedule']\n",
    "        .value_counts()\n",
    "        .reindex(schedule_order, fill_value=0)\n",
    "    )\n",
    "\n",
    "    # Plot\n",
    "    plt.figure(figsize=(8, 5))\n",
    "    sns.barplot(x=schedule_counts.index, y=schedule_counts.values, palette='coolwarm')\n",
    "    plt.title(f\"Call Schedule Distribution for '{contact_name}'\")\n",
    "    plt.xlabel(\"Call Time Schedule\")\n",
    "    plt.ylabel(\"Number of Calls\")\n",
    "    plt.xticks(rotation=30)\n",
    "    plt.tight_layout()\n",
    "    plt.show()\n"
   ]
  },
  {
   "cell_type": "code",
   "execution_count": 89,
   "id": "3ffedf5b",
   "metadata": {},
   "outputs": [
    {
     "name": "stderr",
     "output_type": "stream",
     "text": [
      "/var/folders/cd/0xwqxqbn22gdpcvtvsgqbzg00000gn/T/ipykernel_22132/2626248399.py:27: FutureWarning: \n",
      "\n",
      "Passing `palette` without assigning `hue` is deprecated and will be removed in v0.14.0. Assign the `x` variable to `hue` and set `legend=False` for the same effect.\n",
      "\n",
      "  sns.barplot(x=schedule_counts.index, y=schedule_counts.values, palette='coolwarm')\n"
     ]
    },
    {
     "data": {
      "image/png": "[encoded data removed]",
      "text/plain": [
       "<Figure size 800x500 with 1 Axes>"
      ]
     },
     "metadata": {},
     "output_type": "display_data"
    }
   ],
   "source": [
    "plot_call_schedule_for_contact(df_call,'Perpendicular Bro')"
   ]
  },
  {
   "cell_type": "code",
   "execution_count": null,
   "id": "8ee5786f",
   "metadata": {},
   "outputs": [],
   "source": []
  }
 ],
 "metadata": {
  "kernelspec": {
   "display_name": "geoenv",
   "language": "python",
   "name": "python3"
  },
  "language_info": {
   "codemirror_mode": {
    "name": "ipython",
    "version": 3
   },
   "file_extension": ".py",
   "mimetype": "text/x-python",
   "name": "python",
   "nbconvert_exporter": "python",
   "pygments_lexer": "ipython3",
   "version": "3.12.9"
  }
 },
 "nbformat": 4,
 "nbformat_minor": 5
}
