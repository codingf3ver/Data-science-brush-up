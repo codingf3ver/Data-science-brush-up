{
 "cells": [
  {
   "cell_type": "code",
   "execution_count": 1,
   "metadata": {},
   "outputs": [
    {
     "name": "stdout",
     "output_type": "stream",
     "text": [
      "Time taken with two threads: 0.35 seconds\n"
     ]
    }
   ],
   "source": [
    "import threading\n",
    "import time\n",
    "\n",
    "def count():\n",
    "    x = 0\n",
    "    for _ in range(10**7):\n",
    "        x += 1\n",
    "\n",
    "# Run two threads\n",
    "start = time.time()\n",
    "t1 = threading.Thread(target=count)\n",
    "t2 = threading.Thread(target=count)\n",
    "\n",
    "t1.start()\n",
    "t2.start()\n",
    "t1.join()\n",
    "t2.join()\n",
    "end = time.time()\n",
    "\n",
    "print(f\"Time taken with two threads: {end - start:.2f} seconds\")\n"
   ]
  },
  {
   "cell_type": "code",
   "execution_count": 2,
   "metadata": {},
   "outputs": [
    {
     "name": "stdout",
     "output_type": "stream",
     "text": [
      "Time taken in single thread: 0.35 seconds\n"
     ]
    }
   ],
   "source": [
    "start = time.time()\n",
    "count()\n",
    "count()\n",
    "end = time.time()\n",
    "print(f\"Time taken in single thread: {end - start:.2f} seconds\")\n"
   ]
  },
  {
   "cell_type": "code",
   "execution_count": 3,
   "metadata": {},
   "outputs": [
    {
     "name": "stdout",
     "output_type": "stream",
     "text": [
      "Time taken with multiprocessing: 0.05 seconds\n"
     ]
    },
    {
     "name": "stderr",
     "output_type": "stream",
     "text": [
      "Traceback (most recent call last):\n",
      "Traceback (most recent call last):\n",
      "  File \"<string>\", line 1, in <module>\n",
      "  File \"<string>\", line 1, in <module>\n",
      "  File \"/Users/zeynmehezmacbook/miniconda3/envs/geoenv/lib/python3.12/multiprocessing/spawn.py\", line 122, in spawn_main\n",
      "  File \"/Users/zeynmehezmacbook/miniconda3/envs/geoenv/lib/python3.12/multiprocessing/spawn.py\", line 122, in spawn_main\n",
      "    exitcode = _main(fd, parent_sentinel)\n",
      "    exitcode = _main(fd, parent_sentinel)\n",
      "                              ^^^^^^^^^^^^^^^^^^^^^^^^^^^^^^^^^^^^^^^^^^^^^^^^^^^^\n",
      "\n",
      "  File \"/Users/zeynmehezmacbook/miniconda3/envs/geoenv/lib/python3.12/multiprocessing/spawn.py\", line 132, in _main\n",
      "  File \"/Users/zeynmehezmacbook/miniconda3/envs/geoenv/lib/python3.12/multiprocessing/spawn.py\", line 132, in _main\n",
      "    self = reduction.pickle.load(from_parent)\n",
      "    self = reduction.pickle.load(from_parent)\n",
      "           ^^^^^^^^ ^ ^ ^ ^ ^ ^ ^ ^ ^ ^ ^^^^^^^^^^^^^^^^^^^^^^^^^^^^^^^^\n",
      "^^^^^AttributeError^^: ^Can't get attribute 'count' on <module '__main__' (<class '_frozen_importlib.BuiltinImporter'>)>^^\n",
      "^^^^^^^^\n",
      "AttributeError: Can't get attribute 'count' on <module '__main__' (<class '_frozen_importlib.BuiltinImporter'>)>\n"
     ]
    }
   ],
   "source": [
    "import multiprocessing\n",
    "import time\n",
    "\n",
    "def count():\n",
    "    x = 0\n",
    "    for _ in range(10**7):\n",
    "        x += 1\n",
    "\n",
    "if __name__ == \"__main__\":\n",
    "    start = time.time()\n",
    "    p1 = multiprocessing.Process(target=count)\n",
    "    p2 = multiprocessing.Process(target=count)\n",
    "\n",
    "    p1.start()\n",
    "    p2.start()\n",
    "    p1.join()\n",
    "    p2.join()\n",
    "    end = time.time()\n",
    "\n",
    "    print(f\"Time taken with multiprocessing: {end - start:.2f} seconds\")\n"
   ]
  },
  {
   "cell_type": "code",
   "execution_count": null,
   "metadata": {},
   "outputs": [],
   "source": [
    "import threading\n",
    "import multiprocessing\n",
    "import time\n",
    "\n",
    "def count():\n",
    "    x = 0\n",
    "    for _ in range(10**7):\n",
    "        x += 1\n",
    "\n",
    "# 1️⃣ Single-threaded run\n",
    "def single_thread_test():\n",
    "    start = time.time()\n",
    "    count()\n",
    "    count()\n",
    "    end = time.time()\n",
    "    print(f\"Single-threaded: {end - start:.2f} seconds\")\n",
    "\n",
    "# 2️⃣ Multi-threaded run (affected by GIL)\n",
    "def multi_thread_test():\n",
    "    start = time.time()\n",
    "    t1 = threading.Thread(target=count)\n",
    "    t2 = threading.Thread(target=count)\n",
    "    t1.start()\n",
    "    t2.start()\n",
    "    t1.join()\n",
    "    t2.join()\n",
    "    end = time.time()\n",
    "    print(f\"Multi-threaded (GIL): {end - start:.2f} seconds\")\n",
    "\n",
    "# 3️⃣ Multiprocessing run (runs in parallel)\n",
    "def multi_process_test():\n",
    "    start = time.time()\n",
    "    p1 = multiprocessing.Process(target=count)\n",
    "    p2 = multiprocessing.Process(target=count)\n",
    "    p1.start()\n",
    "    p2.start()\n",
    "    p1.join()\n",
    "    p2.join()\n",
    "    end = time.time()\n",
    "    print(f\"Multiprocessing: {end - start:.2f} seconds\")\n",
    "\n",
    "\n",
    "if __name__ == \"__main__\":\n",
    "    print(\"Running benchmark tests...\\n\")\n",
    "    single_thread_test()\n",
    "    multi_thread_test()\n",
    "    multi_process_test()\n"
   ]
  },
  {
   "cell_type": "code",
   "execution_count": null,
   "metadata": {},
   "outputs": [],
   "source": [
    "import time\n",
    "from concurrent.futures import ThreadPoolExecutor, ProcessPoolExecutor\n",
    "\n",
    "def count():\n",
    "    x = 0\n",
    "    for _ in range(10**7):\n",
    "        x += 1\n",
    "    return x\n",
    "\n",
    "def run_threadpool():\n",
    "    start = time.time()\n",
    "    with ThreadPoolExecutor(max_workers=2) as executor:\n",
    "        futures = [executor.submit(count) for _ in range(2)]\n",
    "        for future in futures:\n",
    "            future.result()\n",
    "    end = time.time()\n",
    "    print(f\"ThreadPoolExecutor (GIL): {end - start:.2f} seconds\")\n",
    "\n",
    "def run_processpool():\n",
    "    start = time.time()\n",
    "    with ProcessPoolExecutor(max_workers=2) as executor:\n",
    "        futures = [executor.submit(count) for _ in range(2)]\n",
    "        for future in futures:\n",
    "            future.result()\n",
    "    end = time.time()\n",
    "    print(f\"ProcessPoolExecutor (parallel): {end - start:.2f} seconds\")\n",
    "\n",
    "if __name__ == \"__main__\":\n",
    "    run_threadpool()\n",
    "    run_processpool()\n"
   ]
  },
  {
   "cell_type": "code",
   "execution_count": null,
   "metadata": {},
   "outputs": [],
   "source": [
    "import time\n",
    "from tqdm import tqdm\n",
    "from concurrent.futures import ProcessPoolExecutor\n",
    "\n",
    "def count_with_progress(_):\n",
    "    x = 0\n",
    "    for _ in tqdm(range(10**7), desc=\"Counting\", leave=False):\n",
    "        x += 1\n",
    "    return x\n",
    "\n",
    "def run_with_progress():\n",
    "    start = time.time()\n",
    "    with ProcessPoolExecutor(max_workers=2) as executor:\n",
    "        futures = [executor.submit(count_with_progress, i) for i in range(2)]\n",
    "        for future in tqdm(futures, desc=\"Overall Progress\"):\n",
    "            future.result()\n",
    "    end = time.time()\n",
    "    print(f\"ProcessPoolExecutor with progress bars: {end - start:.2f} seconds\")\n",
    "\n",
    "if __name__ == \"__main__\":\n",
    "    run_with_progress()\n"
   ]
  },
  {
   "cell_type": "markdown",
   "metadata": {},
   "source": [
    "#### Decorators"
   ]
  },
  {
   "cell_type": "code",
   "execution_count": 1,
   "metadata": {},
   "outputs": [],
   "source": [
    "import time\n",
    "import pandas as pd\n",
    "\n",
    "def timing_decorator(func):\n",
    "    def wrapper(*args, **kwargs):\n",
    "        start_time = time.time()\n",
    "        print(f\"Starting '{func.__name__}'...\")\n",
    "        result = func(*args, **kwargs)\n",
    "        end_time = time.time()\n",
    "        print(f\"Finished '{func.__name__}' in {end_time - start_time:.2f} seconds\")\n",
    "        return result\n",
    "    return wrapper\n"
   ]
  },
  {
   "cell_type": "code",
   "execution_count": 2,
   "metadata": {},
   "outputs": [],
   "source": [
    "@timing_decorator\n",
    "def clean_data(df):\n",
    "    df = df.dropna()\n",
    "    df = df[df['age'] > 18]\n",
    "    df['income'] = df['income'].apply(lambda x: x * 1.1)\n",
    "    return df"
   ]
  },
  {
   "cell_type": "code",
   "execution_count": 4,
   "metadata": {},
   "outputs": [
    {
     "name": "stdout",
     "output_type": "stream",
     "text": [
      "Starting 'clean_data'...\n",
      "Finished 'clean_data' in 0.01 seconds\n",
      "      name  age   income\n",
      "0    Alice   25  55000.0\n",
      "2  Charlie   35  66000.0\n"
     ]
    }
   ],
   "source": [
    "data = {\n",
    "    'name': ['Alice', 'Bob', 'Charlie', None],\n",
    "    'age': [25, 17, 35, 28],\n",
    "    'income': [50000, 40000, 60000, None]\n",
    "}\n",
    "\n",
    "df = pd.DataFrame(data)\n",
    "\n",
    "cleaned_df = clean_data(df)\n",
    "print(cleaned_df)\n"
   ]
  },
  {
   "cell_type": "code",
   "execution_count": 5,
   "metadata": {},
   "outputs": [
    {
     "name": "stdout",
     "output_type": "stream",
     "text": [
      "[LOG] Calling multiply with args=(3, 4) kwargs={}\n",
      "[LOG] multiply returned 12\n"
     ]
    },
    {
     "data": {
      "text/plain": [
       "12"
      ]
     },
     "execution_count": 5,
     "metadata": {},
     "output_type": "execute_result"
    }
   ],
   "source": [
    "from functools import wraps\n",
    "\n",
    "def log_decorator(func):\n",
    "    @wraps(func)\n",
    "    def wrapper(*args, **kwargs):\n",
    "        print(f\"[LOG] Calling {func.__name__} with args={args} kwargs={kwargs}\")\n",
    "        result = func(*args, **kwargs)\n",
    "        print(f\"[LOG] {func.__name__} returned {result}\")\n",
    "        return result\n",
    "    return wrapper\n",
    "\n",
    "@log_decorator\n",
    "def multiply(a, b):\n",
    "    return a * b\n",
    "\n",
    "multiply(3, 4)\n"
   ]
  },
  {
   "cell_type": "code",
   "execution_count": 6,
   "metadata": {},
   "outputs": [
    {
     "name": "stdout",
     "output_type": "stream",
     "text": [
      "[RETRY 1] unstable_process failed: Random failure!\n",
      "Success!\n"
     ]
    }
   ],
   "source": [
    "import time\n",
    "from functools import wraps\n",
    "\n",
    "def retry_decorator(retries=3, delay=1):\n",
    "    def decorator(func):\n",
    "        @wraps(func)\n",
    "        def wrapper(*args, **kwargs):\n",
    "            for i in range(retries):\n",
    "                try:\n",
    "                    return func(*args, **kwargs)\n",
    "                except Exception as e:\n",
    "                    print(f\"[RETRY {i+1}] {func.__name__} failed: {e}\")\n",
    "                    time.sleep(delay)\n",
    "            raise Exception(f\"{func.__name__} failed after {retries} retries.\")\n",
    "        return wrapper\n",
    "    return decorator\n",
    "\n",
    "import random\n",
    "\n",
    "@retry_decorator(retries=5, delay=0.5)\n",
    "def unstable_process():\n",
    "    if random.random() < 0.7:\n",
    "        raise ValueError(\"Random failure!\")\n",
    "    return \"Success!\"\n",
    "\n",
    "print(unstable_process())\n"
   ]
  },
  {
   "cell_type": "code",
   "execution_count": null,
   "metadata": {},
   "outputs": [],
   "source": [
    "from functools import lru_cache\n",
    "\n",
    "@timing_decorator\n",
    "@lru_cache(maxsize=10)\n",
    "def fibonacci(n):\n",
    "    print(f\"Calculating fibonacci({n})\")\n",
    "    if n in (0, 1):\n",
    "        return n\n",
    "    return fibonacci(n-1) + fibonacci(n-2)\n",
    "\n",
    "fibonacci(10) \n"
   ]
  },
  {
   "cell_type": "code",
   "execution_count": 12,
   "metadata": {},
   "outputs": [],
   "source": [
    "@retry_decorator()\n",
    "@log_decorator\n",
    "@timing_decorator\n",
    "def fetch_and_clean_data():\n",
    "    # simulate a flaky data read\n",
    "    if random.random() < 0.2:\n",
    "        raise ValueError(\"Temporary read error\")\n",
    "    \n",
    "    df = pd.DataFrame({\n",
    "        \"age\": [23, None, 45, 19],\n",
    "        \"income\": [50000, 60000, None, 40000]\n",
    "    })\n",
    "    return df.dropna()\n"
   ]
  },
  {
   "cell_type": "code",
   "execution_count": 13,
   "metadata": {},
   "outputs": [
    {
     "name": "stdout",
     "output_type": "stream",
     "text": [
      "[LOG] Calling wrapper with args=() kwargs={}\n",
      "Starting 'fetch_and_clean_data'...\n",
      "Finished 'fetch_and_clean_data' in 0.01 seconds\n",
      "[LOG] wrapper returned     age   income\n",
      "0  23.0  50000.0\n",
      "3  19.0  40000.0\n"
     ]
    },
    {
     "data": {
      "text/html": [
       "<div>\n",
       "<style scoped>\n",
       "    .dataframe tbody tr th:only-of-type {\n",
       "        vertical-align: middle;\n",
       "    }\n",
       "\n",
       "    .dataframe tbody tr th {\n",
       "        vertical-align: top;\n",
       "    }\n",
       "\n",
       "    .dataframe thead th {\n",
       "        text-align: right;\n",
       "    }\n",
       "</style>\n",
       "<table border=\"1\" class=\"dataframe\">\n",
       "  <thead>\n",
       "    <tr style=\"text-align: right;\">\n",
       "      <th></th>\n",
       "      <th>age</th>\n",
       "      <th>income</th>\n",
       "    </tr>\n",
       "  </thead>\n",
       "  <tbody>\n",
       "    <tr>\n",
       "      <th>0</th>\n",
       "      <td>23.0</td>\n",
       "      <td>50000.0</td>\n",
       "    </tr>\n",
       "    <tr>\n",
       "      <th>3</th>\n",
       "      <td>19.0</td>\n",
       "      <td>40000.0</td>\n",
       "    </tr>\n",
       "  </tbody>\n",
       "</table>\n",
       "</div>"
      ],
      "text/plain": [
       "    age   income\n",
       "0  23.0  50000.0\n",
       "3  19.0  40000.0"
      ]
     },
     "execution_count": 13,
     "metadata": {},
     "output_type": "execute_result"
    }
   ],
   "source": [
    "fetch_and_clean_data()"
   ]
  },
  {
   "cell_type": "code",
   "execution_count": 44,
   "metadata": {},
   "outputs": [
    {
     "name": "stdout",
     "output_type": "stream",
     "text": [
      "Something is happening before the function is called.\n",
      "Hello!\n",
      "Something is happening after the function is called.\n"
     ]
    }
   ],
   "source": [
    "def my_decorator(func):\n",
    "    def wrapper():\n",
    "        # def wrapper2():\n",
    "        print(\"Something is happening before the function is called.\")\n",
    "        func()\n",
    "        print(\"Something is happening after the function is called.\")\n",
    "        # return wrapper2\n",
    "    return wrapper\n",
    "\n",
    "@my_decorator\n",
    "def say_hello():\n",
    "    print(\"Hello!\")\n",
    "\n",
    "say_hello()\n",
    "\n",
    "\n",
    "# ⚡ Step-by-Step Again:\n",
    "# You define the original say_hello().\n",
    "\n",
    "# You decorate it with @my_decorator.\n",
    "\n",
    "# Behind the scenes, Python does:\n",
    "\n",
    "# python\n",
    "# Copy\n",
    "# Edit\n",
    "# say_hello = my_decorator(say_hello)\n",
    "# my_decorator(say_hello) runs:\n",
    "\n",
    "# Inside my_decorator, it defines wrapper().\n",
    "\n",
    "# Then it does return wrapper — giving back the function wrapper.\n",
    "\n",
    "# Now say_hello is the wrapper function.\n",
    "\n",
    "# When you finally do say_hello(), you're actually doing wrapper() — that's when it runs.\n"
   ]
  },
  {
   "cell_type": "markdown",
   "metadata": {},
   "source": [
    "### generators and yeild"
   ]
  },
  {
   "cell_type": "code",
   "execution_count": 14,
   "metadata": {},
   "outputs": [
    {
     "name": "stdout",
     "output_type": "stream",
     "text": [
      "1\n",
      "2\n",
      "3\n",
      "4\n",
      "5\n"
     ]
    }
   ],
   "source": [
    "def count_up_to(n):\n",
    "    count = 1\n",
    "    while count <= n:\n",
    "        yield count\n",
    "        count += 1\n",
    "\n",
    "counter = count_up_to(5)\n",
    "for number in counter:\n",
    "    print(number)\n"
   ]
  },
  {
   "cell_type": "code",
   "execution_count": null,
   "metadata": {},
   "outputs": [],
   "source": []
  }
 ],
 "metadata": {
  "kernelspec": {
   "display_name": "geoenv",
   "language": "python",
   "name": "python3"
  },
  "language_info": {
   "codemirror_mode": {
    "name": "ipython",
    "version": 3
   },
   "file_extension": ".py",
   "mimetype": "text/x-python",
   "name": "python",
   "nbconvert_exporter": "python",
   "pygments_lexer": "ipython3",
   "version": "3.12.9"
  }
 },
 "nbformat": 4,
 "nbformat_minor": 2
}
