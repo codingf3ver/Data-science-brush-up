{
 "cells": [
  {
   "cell_type": "code",
   "execution_count": 11,
   "metadata": {},
   "outputs": [],
   "source": [
    "import helper"
   ]
  },
  {
   "cell_type": "code",
   "execution_count": null,
   "metadata": {},
   "outputs": [],
   "source": [
    "# 1. Reverse a string.\n",
    "# 2. Check if a string is a palindrome.\n",
    "# 3. Find the first non-repeating character in a string.\n",
    "# 4. Check if two strings are anagrams.\n",
    "# 5. Find duplicate elements in a list."
   ]
  },
  {
   "cell_type": "code",
   "execution_count": null,
   "metadata": {},
   "outputs": [
    {
     "name": "stdout",
     "output_type": "stream",
     "text": [
      "esrever\n",
      "esrever\n"
     ]
    }
   ],
   "source": [
    "# 1. Reverse a string.\n",
    "string='reverse'\n",
    "print(\"\".join([string[idx] for idx in range(len(string)-1,-1,-1)]))\n",
    "print(string[::-1])"
   ]
  },
  {
   "cell_type": "code",
   "execution_count": 16,
   "metadata": {},
   "outputs": [
    {
     "name": "stdout",
     "output_type": "stream",
     "text": [
      "pal\n"
     ]
    }
   ],
   "source": [
    "# 2. Check if a string is a palindrome.\n",
    "string='1331'\n",
    "reverse_string=string[::-1]\n",
    "if string==reverse_string:\n",
    "    print('pal')\n",
    "else:\n",
    "    print('not pal')"
   ]
  },
  {
   "cell_type": "code",
   "execution_count": 18,
   "metadata": {},
   "outputs": [],
   "source": [
    "# 3. Find the first non-repeating character in a string\n",
    "s = \"geeksforgeeks\""
   ]
  },
  {
   "cell_type": "code",
   "execution_count": 19,
   "metadata": {},
   "outputs": [
    {
     "data": {
      "text/plain": [
       "{'e', 'f', 'g', 'k', 'o', 'r', 's'}"
      ]
     },
     "execution_count": 19,
     "metadata": {},
     "output_type": "execute_result"
    }
   ],
   "source": [
    "set(s)"
   ]
  },
  {
   "cell_type": "code",
   "execution_count": null,
   "metadata": {},
   "outputs": [],
   "source": [
    "for str in s:\n",
    "    str\n"
   ]
  },
  {
   "cell_type": "code",
   "execution_count": 1,
   "metadata": {},
   "outputs": [
    {
     "name": "stdout",
     "output_type": "stream",
     "text": [
      "anagram\n"
     ]
    }
   ],
   "source": [
    "#4. Check if two strings are anagrams.\n",
    "str1='anagram'\n",
    "str2='gramana'\n",
    "dict1={}\n",
    "dict2={}\n",
    "for char in str1:\n",
    "    if char in dict1:\n",
    "        dict1[char]=dict1[char]+1\n",
    "    else:\n",
    "        dict1[char]=1\n",
    "for char in str2:\n",
    "    if char in dict2:\n",
    "        dict2[char]=dict2[char]+1\n",
    "    else:\n",
    "        dict2[char]=1\n",
    "if dict1==dict2:\n",
    "    print('anagram')\n",
    "else:\n",
    "    print('not anagram')"
   ]
  },
  {
   "cell_type": "code",
   "execution_count": 3,
   "metadata": {},
   "outputs": [
    {
     "data": {
      "text/plain": [
       "{'g': 1, 'r': 1, 'a': 3, 'm': 1, 'n': 1}"
      ]
     },
     "execution_count": 3,
     "metadata": {},
     "output_type": "execute_result"
    }
   ],
   "source": [
    "dict2"
   ]
  },
  {
   "cell_type": "code",
   "execution_count": 2,
   "metadata": {},
   "outputs": [
    {
     "data": {
      "text/plain": [
       "{'a': 3, 'n': 1, 'g': 1, 'r': 1, 'm': 1}"
      ]
     },
     "execution_count": 2,
     "metadata": {},
     "output_type": "execute_result"
    }
   ],
   "source": [
    "dict1"
   ]
  },
  {
   "cell_type": "code",
   "execution_count": null,
   "metadata": {},
   "outputs": [],
   "source": [
    "# 5. Find duplicate elements in a list.\n",
    "l1=[1,2,2,7,8,2,6]\n",
    "l2=[1,9,8,6,3,2]\n",
    "sorted_l1=sorted(l2)\n",
    "for idx in range(len(sorted_l1)-1):\n",
    "    if sorted_l1[idx]==sorted_l1[idx+1]:\n",
    "        print('duplicate')\n",
    "        break"
   ]
  },
  {
   "cell_type": "code",
   "execution_count": 4,
   "metadata": {},
   "outputs": [],
   "source": [
    "# 6. Remove duplicates from a list without using set.\n",
    "l1=[1,2,2,7,8,2,6]\n",
    "unique_list=[]\n",
    "unique_dict={}\n",
    "for ele in l1:\n",
    "    if ele not in unique_dict:\n",
    "        unique_dict[ele]=True\n",
    "        unique_list.append(ele)"
   ]
  },
  {
   "cell_type": "code",
   "execution_count": 5,
   "metadata": {},
   "outputs": [
    {
     "data": {
      "text/plain": [
       "{1: True, 2: True, 7: True, 8: True, 6: True}"
      ]
     },
     "execution_count": 5,
     "metadata": {},
     "output_type": "execute_result"
    }
   ],
   "source": [
    "unique_dict"
   ]
  },
  {
   "cell_type": "code",
   "execution_count": 50,
   "metadata": {},
   "outputs": [
    {
     "data": {
      "text/plain": [
       "[1, 2, 7, 8, 6]"
      ]
     },
     "execution_count": 50,
     "metadata": {},
     "output_type": "execute_result"
    }
   ],
   "source": [
    "unique_list"
   ]
  },
  {
   "cell_type": "code",
   "execution_count": 51,
   "metadata": {},
   "outputs": [
    {
     "data": {
      "text/plain": [
       "[1, 2, 7, 8, 6]"
      ]
     },
     "execution_count": 51,
     "metadata": {},
     "output_type": "execute_result"
    }
   ],
   "source": [
    "list(dict.fromkeys(l1))"
   ]
  },
  {
   "cell_type": "code",
   "execution_count": 6,
   "metadata": {},
   "outputs": [],
   "source": [
    "#7. Find the largest and smallest numbers in a list\n",
    "l1=[1,2,2,7,8,2,6]\n",
    "min=9999999\n",
    "max=-999999\n",
    "for element in l1:\n",
    "    if element < min:\n",
    "        min=element\n",
    "    if element > max:\n",
    "        max=element"
   ]
  },
  {
   "cell_type": "code",
   "execution_count": 7,
   "metadata": {},
   "outputs": [
    {
     "data": {
      "text/plain": [
       "8"
      ]
     },
     "execution_count": 7,
     "metadata": {},
     "output_type": "execute_result"
    }
   ],
   "source": [
    "max"
   ]
  },
  {
   "cell_type": "code",
   "execution_count": 8,
   "metadata": {},
   "outputs": [
    {
     "data": {
      "text/plain": [
       "1"
      ]
     },
     "execution_count": 8,
     "metadata": {},
     "output_type": "execute_result"
    }
   ],
   "source": [
    "min"
   ]
  },
  {
   "cell_type": "code",
   "execution_count": null,
   "metadata": {},
   "outputs": [],
   "source": [
    "# 8. Sort a list without using built-in sort functions\n",
    "l1=[1,2,2,7,8,2,6]\n",
    "size =len(l1)\n",
    "low=0\n",
    "mid=size//2\n",
    "high=size-1\n",
    "\n",
    "if l1[mid]>l1[low]:\n",
    "    low=low+1\n"
   ]
  },
  {
   "cell_type": "code",
   "execution_count": 12,
   "metadata": {},
   "outputs": [],
   "source": [
    "# 9. Flatten a nested list.\n",
    "\n",
    "def flat_nested_loop_m1():\n",
    "    l1=[1,[2],2,[7],8,2,6]\n",
    "    dummy_list=[]\n",
    "    for element in l1:\n",
    "        if isinstance(element,list):\n",
    "            dummy_list.extend(element)\n",
    "        else:\n",
    "            dummy_list.append(element)\n",
    "    print('flat method 1 : ',dummy_list)\n",
    "\n",
    "def flat_nested_loop_m2():\n",
    "    eg_list=[1,[2,2],[[7],8,[2]],6]\n",
    "    dummy_list2=[]\n",
    "    def nested_list_flatten(list_data:list):\n",
    "        for element in list_data:\n",
    "            if isinstance(element,list):\n",
    "                nested_list_flatten(element)\n",
    "            else:\n",
    "                dummy_list2.append(element)\n",
    "    nested_list_flatten(eg_list)\n",
    "    print('flat method 2 : ',dummy_list2)"
   ]
  },
  {
   "cell_type": "code",
   "execution_count": 13,
   "metadata": {},
   "outputs": [
    {
     "name": "stdout",
     "output_type": "stream",
     "text": [
      "flat method 1 :  [1, 2, 2, 7, 8, 2, 6]\n",
      "exceution Time : 0.0001 sec\n"
     ]
    }
   ],
   "source": [
    "with helper.Timer():\n",
    "    flat_nested_loop_m1()"
   ]
  },
  {
   "cell_type": "code",
   "execution_count": 14,
   "metadata": {},
   "outputs": [
    {
     "name": "stdout",
     "output_type": "stream",
     "text": [
      "flat method 2 :  [1, 2, 2, 7, 8, 2, 6]\n",
      "exceution Time : 0.0001 sec\n"
     ]
    }
   ],
   "source": [
    "with helper.Timer():\n",
    "    flat_nested_loop_m2()"
   ]
  },
  {
   "cell_type": "code",
   "execution_count": 71,
   "metadata": {},
   "outputs": [],
   "source": [
    "# 10. Count the occurrences of each element in a list\n",
    "dict1={}\n",
    "list3=[1, 2, 2, 7, 8, 2, 6]\n",
    "for element in list3:\n",
    "    if element in dict1:\n",
    "        dict1[element]=dict1[element]+1\n",
    "    else:\n",
    "        dict1[element]=1"
   ]
  },
  {
   "cell_type": "code",
   "execution_count": 72,
   "metadata": {},
   "outputs": [
    {
     "data": {
      "text/plain": [
       "{1: 1, 2: 3, 7: 1, 8: 1, 6: 1}"
      ]
     },
     "execution_count": 72,
     "metadata": {},
     "output_type": "execute_result"
    }
   ],
   "source": [
    "dict1"
   ]
  },
  {
   "cell_type": "code",
   "execution_count": 73,
   "metadata": {},
   "outputs": [
    {
     "name": "stdout",
     "output_type": "stream",
     "text": [
      "esreveR eht sdrow ni a ecnetnes\n"
     ]
    }
   ],
   "source": [
    "# 11. Reverse the words in a sentence.\n",
    "sentence='Reverse the words in a sentence'\n",
    "sentence_break=sentence.split(\" \")\n",
    "senetence_list=[ word[::-1] for word in sentence_break]\n",
    "print(\" \".join(senetence_list))"
   ]
  },
  {
   "cell_type": "code",
   "execution_count": 78,
   "metadata": {},
   "outputs": [
    {
     "name": "stdout",
     "output_type": "stream",
     "text": [
      "Reverse The Words In A Sentence\n"
     ]
    },
    {
     "data": {
      "text/plain": [
       "'Reverse The Words In A Sentence'"
      ]
     },
     "execution_count": 78,
     "metadata": {},
     "output_type": "execute_result"
    }
   ],
   "source": [
    "#12. Capitalize the first letter of each word in a string\n",
    "import re\n",
    "\n",
    "sentence='Reverse the words in a sentence'\n",
    "sentence_break=sentence.split(\" \")\n",
    "cap_worded_list=[ word.title() for word in sentence_break]\n",
    "print(\" \".join(cap_worded_list))\n",
    "\n",
    "def titlecase(s):\n",
    "    return re.sub(r\"[A-Za-z]+('[A-Za-z]+)?\",\n",
    "                  lambda mo: mo.group(0).capitalize(),\n",
    "                  s)\n",
    "titlecase(sentence)"
   ]
  },
  {
   "cell_type": "code",
   "execution_count": 81,
   "metadata": {},
   "outputs": [
    {
     "data": {
      "text/plain": [
       "False"
      ]
     },
     "execution_count": 81,
     "metadata": {},
     "output_type": "execute_result"
    }
   ],
   "source": [
    "# 13. Check if a string contains only digits\n",
    "'123l'.isdigit()\n"
   ]
  },
  {
   "cell_type": "code",
   "execution_count": null,
   "metadata": {},
   "outputs": [],
   "source": [
    "# 14. Find all substrings of a string\n",
    "# Input :  s = “abc”\n",
    "# Output :  “a”, “ab”, “abc”, “b”, “bc”, “c”\n",
    "\n",
    "\"abcd\"\n",
    "a,ab,abc,abcd, b, bc,bcd,c,cd,d\n",
    "i,(i,i+1),(i,i+1,i+2),(i,i+1,i+2,size), i+i,(i+1)"
   ]
  },
  {
   "cell_type": "code",
   "execution_count": null,
   "metadata": {},
   "outputs": [
    {
     "name": "stdout",
     "output_type": "stream",
     "text": [
      "ab\n",
      "bc\n",
      "cd\n"
     ]
    },
    {
     "ename": "IndexError",
     "evalue": "string index out of range",
     "output_type": "error",
     "traceback": [
      "\u001b[31m---------------------------------------------------------------------------\u001b[39m",
      "\u001b[31mIndexError\u001b[39m                                Traceback (most recent call last)",
      "\u001b[36mCell\u001b[39m\u001b[36m \u001b[39m\u001b[32mIn[84]\u001b[39m\u001b[32m, line 8\u001b[39m\n\u001b[32m      6\u001b[39m \u001b[38;5;28;01mfor\u001b[39;00m idx \u001b[38;5;129;01min\u001b[39;00m \u001b[38;5;28mrange\u001b[39m(size-\u001b[32m1\u001b[39m):\n\u001b[32m      7\u001b[39m     modified_string=string[idx]\n\u001b[32m----> \u001b[39m\u001b[32m8\u001b[39m     modified_string=modified_string+\u001b[43mstring\u001b[49m\u001b[43m[\u001b[49m\u001b[43midx\u001b[49m\u001b[43m+\u001b[49m\u001b[32;43m1\u001b[39;49m\u001b[43m]\u001b[49m\n\u001b[32m      9\u001b[39m     \u001b[38;5;28mprint\u001b[39m(modified_string)\n",
      "\u001b[31mIndexError\u001b[39m: string index out of range"
     ]
    }
   ],
   "source": [
    "string=\"abcd\"\n",
    "\n",
    "def recursive_string(s):\n",
    "    size=len(s)\n",
    "size=len(s)\n",
    "count=0\n",
    "for idx in range(size-1):\n",
    "    modified_string=string[idx]\n",
    "    # modified_string=modified_string+string[idx+1]\n",
    "    print(modified_string)\n",
    "    count+=1"
   ]
  },
  {
   "cell_type": "code",
   "execution_count": null,
   "metadata": {},
   "outputs": [],
   "source": [
    "# Find the longest common prefix\n",
    "input=[\"geeksforgeeks\", \"geeks\", \"geek\", \"geezer\"]\n",
    "# Output: “gee”\n",
    "# Explanation: “gee” is the longest common prefix in all the given strings: “geeksforgeeks”, “geeks”, “geeks” and “geezer”."
   ]
  },
  {
   "cell_type": "code",
   "execution_count": 87,
   "metadata": {},
   "outputs": [],
   "source": [
    "join_input=\"\".join(input)"
   ]
  },
  {
   "cell_type": "code",
   "execution_count": 89,
   "metadata": {},
   "outputs": [
    {
     "data": {
      "text/plain": [
       "{'e', 'f', 'g', 'k', 'o', 'r', 's', 'z'}"
      ]
     },
     "execution_count": 89,
     "metadata": {},
     "output_type": "execute_result"
    }
   ],
   "source": [
    "set(join_input)"
   ]
  },
  {
   "cell_type": "code",
   "execution_count": null,
   "metadata": {},
   "outputs": [],
   "source": [
    "first_prefix=input[0]\n",
    "prefix_string=\"\"\n",
    "count_idx=0\n",
    "for element in input:\n",
    "\n",
    "    prefix_selection=element\n",
    "    if input[idx]==first_prefix:\n",
    "        prefix_string=prefix_string+first_prefix\n",
    "        first_prefix=input[idx]"
   ]
  },
  {
   "cell_type": "code",
   "execution_count": 15,
   "metadata": {},
   "outputs": [
    {
     "name": "stdout",
     "output_type": "stream",
     "text": [
      "vowels counts :  3\n",
      "consonant counts :  7\n",
      "vovwel count 3\n",
      "consonant counts 7\n"
     ]
    }
   ],
   "source": [
    "# 16. Count vowels and consonants in a string.\n",
    "vowels={'a','e','i','o','u'}\n",
    "vowel_count_dict={}\n",
    "consonant_count_dict={}\n",
    "string=\"consonants\"\n",
    "vowel_count=0\n",
    "consonant_count=0\n",
    "for str in string:\n",
    "    if str in vowels:\n",
    "        vowel_count+=1\n",
    "        if str in vowel_count_dict:\n",
    "            vowel_count_dict[str]=vowel_count_dict[str]+1\n",
    "        else:\n",
    "            vowel_count_dict[str]=1\n",
    "    else:\n",
    "        consonant_count+=1\n",
    "        if str in consonant_count_dict:\n",
    "            consonant_count_dict[str]=consonant_count_dict[str]+1\n",
    "        else:\n",
    "            consonant_count_dict[str]=1\n",
    "            \n",
    "print('vowels counts : ',sum(vowel_count_dict.values()))\n",
    "print('consonant counts : ',sum(consonant_count_dict.values()))\n",
    "print('vovwel count',vowel_count)\n",
    "print('consonant counts',consonant_count)"
   ]
  },
  {
   "cell_type": "code",
   "execution_count": 119,
   "metadata": {},
   "outputs": [
    {
     "name": "stdout",
     "output_type": "stream",
     "text": [
      "converted string:  Replace multiple spaces with a single space in a string\n"
     ]
    }
   ],
   "source": [
    "#17.  Replace multiple spaces with a single space in a string.\n",
    "import re\n",
    "string= \"Replace       multiple   spaces  with a single space in a  string\"\n",
    "string_list= string.split(\" \")\n",
    "string_list=[str for str in string_list if str!=\"\"]\n",
    "converted_string=\" \".join(string_list)\n",
    "print('converted string: ',converted_string)\n"
   ]
  },
  {
   "cell_type": "code",
   "execution_count": null,
   "metadata": {},
   "outputs": [],
   "source": [
    "# 19. Check if two strings are rotations of each other.\n",
    "# Consider the two strings 'P' = \"abfyg\" and 'Q' = \"gabfy\" \n",
    "\n",
    "# If we cyclically rotate String 'P' to the right once. The resulting string P becomes \"gabfy\" which is equal to String 'Q'. \n",
    "p='abfyg'\n",
    "q='gabfy'"
   ]
  },
  {
   "cell_type": "code",
   "execution_count": 40,
   "metadata": {},
   "outputs": [],
   "source": [
    "# 20 merge sort algorithm\n",
    "def merge_sort(left, right):\n",
    "\n",
    "    sorted_list = []\n",
    "    i=j=0\n",
    "    while i< len(left) and j <len(right):\n",
    "        if left[i] < right [j]:\n",
    "            print(left[i])\n",
    "            sorted_list.append(left[i])\n",
    "            i+=1\n",
    "        else:\n",
    "            sorted_list.append(right[j])\n",
    "            j+=1\n",
    "    \n",
    "    if i < len(left):\n",
    "        print(left[i])\n",
    "        sorted_list.append(left[i])\n",
    "        i+=1\n",
    "\n",
    "    if j< len(right):\n",
    "        print(right[j])\n",
    "        sorted_list.append(right[j])\n",
    "        j+=1\n",
    "    \n",
    "    return sorted_list\n",
    "\n",
    "def sort_arr(arr):\n",
    "    if len(arr)==1:\n",
    "        return arr\n",
    "    mid = len(arr)//2\n",
    "    left = sort_arr(arr[:mid])\n",
    "    right = sort_arr(arr[mid:])\n",
    "    return merge_sort(left,right)"
   ]
  },
  {
   "cell_type": "code",
   "execution_count": 41,
   "metadata": {},
   "outputs": [
    {
     "name": "stdout",
     "output_type": "stream",
     "text": [
      "0\n",
      "7\n",
      "576\n",
      "65\n",
      "99\n",
      "34\n",
      "65\n",
      "0\n",
      "7\n",
      "576\n"
     ]
    },
    {
     "data": {
      "text/plain": [
       "[0, 7, 34, 65, 576]"
      ]
     },
     "execution_count": 41,
     "metadata": {},
     "output_type": "execute_result"
    }
   ],
   "source": [
    "sort_arr([576,0,7,34,65,99])"
   ]
  },
  {
   "cell_type": "code",
   "execution_count": 42,
   "metadata": {},
   "outputs": [
    {
     "data": {
      "text/plain": [
       "[['eat', 'tea', 'ate'], ['tan', 'nat'], ['bat']]"
      ]
     },
     "execution_count": 42,
     "metadata": {},
     "output_type": "execute_result"
    }
   ],
   "source": [
    "# 21. Given an array of strings, group the anagrams together.\n",
    "strs = [\"eat\", \"tea\", \"tan\", \"ate\", \"nat\", \"bat\"]\n",
    "# Output: [[\"eat\",\"tea\",\"ate\"],[\"tan\",\"nat\"],[\"bat\"]]\n",
    "\n",
    "test_dict = dict()\n",
    "\n",
    "for element in strs:\n",
    "    set_element = \"\".join(set(element))\n",
    "    if set_element in test_dict:\n",
    "        test_dict[set_element].append(element)\n",
    "    else:\n",
    "        test_dict[set_element]=[element]\n",
    "\n",
    "list(test_dict.values())"
   ]
  },
  {
   "cell_type": "code",
   "execution_count": null,
   "metadata": {},
   "outputs": [],
   "source": [
    "# 22 Given a string, find the length of the longest substring without repeating characters.\n",
    "s = \"abcabcbb\"\n",
    "# Output: 3 (substring \"abc\")\n",
    "\n"
   ]
  }
 ],
 "metadata": {
  "kernelspec": {
   "display_name": "geoenv",
   "language": "python",
   "name": "python3"
  },
  "language_info": {
   "codemirror_mode": {
    "name": "ipython",
    "version": 3
   },
   "file_extension": ".py",
   "mimetype": "text/x-python",
   "name": "python",
   "nbconvert_exporter": "python",
   "pygments_lexer": "ipython3",
   "version": "3.12.9"
  }
 },
 "nbformat": 4,
 "nbformat_minor": 2
}
